{
 "cells": [
  {
   "cell_type": "code",
   "execution_count": 1,
   "metadata": {},
   "outputs": [],
   "source": [
    "using BenchmarkTools"
   ]
  },
  {
   "cell_type": "code",
   "execution_count": 2,
   "metadata": {},
   "outputs": [
    {
     "data": {
      "text/plain": [
       "batch_nash (generic function with 1 method)"
      ]
     },
     "metadata": {},
     "output_type": "display_data"
    }
   ],
   "source": [
    "include(\"../GameAnalysis.jl\")"
   ]
  },
  {
   "cell_type": "code",
   "execution_count": 3,
   "metadata": {},
   "outputs": [
    {
     "data": {
      "text/plain": [
       "PayoffArrays(30, 4, [30 0 0 0; 29 1 0 0; … ; 0 0 1 29; 0 0 0 30], [354.60123870905875 505.3499222817151 505.3499222817151 505.3499222817151; 352.9294832692765 340.8327555180106 505.3499222817151 505.3499222817151; … ; 505.3499222817151 505.3499222817151 657.347942572738 919.3995489943939; 505.3499222817151 505.3499222817151 505.3499222817151 894.7679111095053], 9658.752532563016, 0.05232041307384206)"
      ]
     },
     "metadata": {},
     "output_type": "display_data"
    }
   ],
   "source": [
    "players = 30\n",
    "actions = 4\n",
    "functions = 200\n",
    "# points_per_dim = 89\n",
    "agg = additive_sin_game(players, actions, functions, sin_params=Dict(:period_range=>[0,100],:amplitude_range=>[0,1000]))\n",
    "# pay_dict = to_sym_game(agg, PayoffDict)\n",
    "pay_arr = to_sym_game(agg, PayoffArrays)\n",
    "# dev_prof = to_sym_game(agg, DeviationProfiles)"
   ]
  },
  {
   "cell_type": "code",
   "execution_count": 4,
   "metadata": {},
   "outputs": [
    {
     "data": {
      "text/plain": [
       "4×969 Matrix{Float64}:\n",
       " 1.0  0.9375  0.9375  0.9375  0.875  …  0.0   0.0     0.0    0.0     0.0\n",
       " 0.0  0.0625  0.0     0.0     0.125     0.0   0.0     0.0    0.0     0.0\n",
       " 0.0  0.0     0.0625  0.0     0.0       0.25  0.1875  0.125  0.0625  0.0\n",
       " 0.0  0.0     0.0     0.0625  0.0       0.75  0.8125  0.875  0.9375  1.0"
      ]
     },
     "metadata": {},
     "output_type": "display_data"
    }
   ],
   "source": [
    "points_per_dim = 17\n",
    "grid = mixture_grid(4,points_per_dim)\n"
   ]
  },
  {
   "cell_type": "code",
   "execution_count": 11,
   "metadata": {},
   "outputs": [
    {
     "data": {
      "text/plain": [
       "8.929171562"
      ]
     },
     "metadata": {},
     "output_type": "display_data"
    }
   ],
   "source": [
    "@belapsed deviation_payoffs($pay_arr, $grid) evals=1 samples=1"
   ]
  },
  {
   "cell_type": "code",
   "execution_count": 9,
   "metadata": {},
   "outputs": [
    {
     "data": {
      "text/plain": [
       "8.983069682"
      ]
     },
     "metadata": {},
     "output_type": "display_data"
    }
   ],
   "source": [
    "@belapsed deviation_payoffs($pay_arr, $grid) evals=1 samples=4"
   ]
  },
  {
   "cell_type": "code",
   "execution_count": 10,
   "metadata": {},
   "outputs": [
    {
     "data": {
      "text/plain": [
       "8.96466431625"
      ]
     },
     "metadata": {},
     "output_type": "display_data"
    }
   ],
   "source": [
    "@belapsed deviation_payoffs($pay_arr, $grid) evals=4 samples=1"
   ]
  },
  {
   "cell_type": "code",
   "execution_count": null,
   "metadata": {},
   "outputs": [],
   "source": [
    "function batched_dev_pays(game, mixtures, batch_size)\n",
    "    num_mixtures = size(mixtures,2)\n",
    "    dev_pays = Array{Float64}(undef, size(mixtures)...)\n",
    "    for start_index in 1:batch_size:num_mixtures\n",
    "        end_index = min(start_index + batch_size - 1, num_mixtures)\n",
    "        dev_pays[:,start_index:end_index] = deviation_payoffs(game, mixtures[:,start_index:end_index])\n",
    "    end\n",
    "    return dev_pays\n",
    "end"
   ]
  },
  {
   "cell_type": "code",
   "execution_count": null,
   "metadata": {},
   "outputs": [],
   "source": [
    "@benchmark batched_dev_pays($pay_dict, $grid, 1)"
   ]
  },
  {
   "cell_type": "code",
   "execution_count": null,
   "metadata": {},
   "outputs": [],
   "source": [
    "@benchmark batched_dev_pays($pay_arr, $grid, 1)"
   ]
  },
  {
   "cell_type": "code",
   "execution_count": null,
   "metadata": {},
   "outputs": [],
   "source": [
    "@benchmark batched_dev_pays($dev_prof, $grid, 1)"
   ]
  },
  {
   "cell_type": "code",
   "execution_count": null,
   "metadata": {},
   "outputs": [],
   "source": [
    "println(\"PayoffDict: \", game_size(PayoffDict, players, actions))\n",
    "println(\"PayoffArrays: \", game_size(PayoffArrays, players, actions))\n",
    "println(\"DeviationProfiles: \", game_size(DeviationProfiles, players, actions))"
   ]
  },
  {
   "cell_type": "code",
   "execution_count": null,
   "metadata": {},
   "outputs": [],
   "source": [
    "584896.0000000014 / 1.1697920000000028e6\n"
   ]
  },
  {
   "cell_type": "code",
   "execution_count": null,
   "metadata": {},
   "outputs": [],
   "source": [
    "584896.0000000014 / 1.697920000000028e6"
   ]
  },
  {
   "cell_type": "code",
   "execution_count": null,
   "metadata": {},
   "outputs": [],
   "source": []
  }
 ],
 "metadata": {
  "kernelspec": {
   "display_name": "Julia 1.7.2",
   "language": "julia",
   "name": "julia-1.7"
  },
  "language_info": {
   "file_extension": ".jl",
   "mimetype": "application/julia",
   "name": "julia",
   "version": "1.7.2"
  }
 },
 "nbformat": 4,
 "nbformat_minor": 4
}
