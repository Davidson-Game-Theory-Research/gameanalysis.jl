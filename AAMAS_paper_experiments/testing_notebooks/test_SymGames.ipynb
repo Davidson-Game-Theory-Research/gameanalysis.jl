{
 "cells": [
  {
   "cell_type": "code",
   "execution_count": 1,
   "metadata": {},
   "outputs": [],
   "source": [
    "using Revise\n",
    "using Distributions"
   ]
  },
  {
   "cell_type": "code",
   "execution_count": 2,
   "metadata": {},
   "outputs": [],
   "source": [
    "includet(\"SymmetricGames.jl\")"
   ]
  },
  {
   "cell_type": "code",
   "execution_count": 3,
   "metadata": {},
   "outputs": [
    {
     "data": {
      "text/plain": [
       "#3 (generic function with 1 method)"
      ]
     },
     "execution_count": 3,
     "metadata": {},
     "output_type": "execute_result"
    }
   ],
   "source": [
    "full_pay_func = prof -> (collect(1:size(prof,1)) + rand(Normal(0,1e-8),size(prof,1))) .* (prof .> 0)\n",
    "dev_pay_func = prof-> collect(1:size(prof,1)) + rand(Normal(0,1e-8),size(prof,1))"
   ]
  },
  {
   "cell_type": "code",
   "execution_count": 4,
   "metadata": {},
   "outputs": [
    {
     "data": {
      "text/plain": [
       "CPU_32bit(30, 4, Float32[29.0 0.0 0.0 0.0; 28.0 1.0 0.0 0.0; … ; 0.0 0.0 1.0 28.0; 0.0 0.0 0.0 29.0], Float32[6.268055 6.2001185 5.9114 6.083825; 9.627746 9.506919 9.531104 9.797732; … ; 9.695654 9.57767 9.187973 9.709541; 5.8933864 6.237944 6.4234095 6.563541], Float32[-0.99999994; -2.0; -3.0; -4.0;;], Float32[1.2534538f10; 1.3521332f10; 1.3993714f10; 1.3230323f10;;])"
      ]
     },
     "execution_count": 4,
     "metadata": {},
     "output_type": "execute_result"
    }
   ],
   "source": [
    "num_players = 30\n",
    "num_actions = 4\n",
    "g1 = PayoffDict(num_players, num_actions, full_pay_func)\n",
    "g2 = PayoffArrays(num_players, num_actions, full_pay_func)\n",
    "g3 = RepeatsTable(num_players, num_actions, full_pay_func)\n",
    "g4 = DeviationProfiles(num_players, num_actions, dev_pay_func)\n",
    "g5 = WeightedPayoffs(num_players, num_actions, dev_pay_func)\n",
    "g6 = LogProbabilities(num_players, num_actions, dev_pay_func)\n",
    "g7 = GPUArrays(num_players, num_actions, dev_pay_func)\n",
    "g8 = CPU_32bit(num_players, num_actions, dev_pay_func)"
   ]
  },
  {
   "cell_type": "code",
   "execution_count": 5,
   "metadata": {},
   "outputs": [
    {
     "data": {
      "text/plain": [
       "(4, 136)"
      ]
     },
     "execution_count": 5,
     "metadata": {},
     "output_type": "execute_result"
    }
   ],
   "source": [
    "mixtures = [uniform_mixture(g1) mixture_grid(g1,4) random_mixtures(g1, 100)]\n",
    "num_mixtures = size(mixtures,2)\n",
    "correct_dev_pays = repeat(collect(1.0:num_actions), 1, num_mixtures)\n",
    "size(mixtures)"
   ]
  },
  {
   "cell_type": "code",
   "execution_count": 6,
   "metadata": {},
   "outputs": [
    {
     "name": "stdout",
     "output_type": "stream",
     "text": [
      "PayoffDict\n"
     ]
    },
    {
     "data": {
      "text/plain": [
       "4×136 Matrix{Float64}:\n",
       " 1.0  1.0  1.0  1.0  1.0  1.0  1.0  1.0  …  1.0  1.0  1.0  1.0  1.0  1.0  1.0\n",
       " 2.0  2.0  2.0  2.0  2.0  2.0  2.0  2.0     2.0  2.0  2.0  2.0  2.0  2.0  2.0\n",
       " 3.0  3.0  3.0  3.0  3.0  3.0  3.0  3.0     3.0  3.0  3.0  3.0  3.0  3.0  3.0\n",
       " 4.0  4.0  4.0  4.0  4.0  4.0  4.0  4.0     4.0  4.0  4.0  4.0  4.0  4.0  4.0"
      ]
     },
     "metadata": {},
     "output_type": "display_data"
    },
    {
     "name": "stdout",
     "output_type": "stream",
     "text": [
      "PayoffArrays\n"
     ]
    },
    {
     "data": {
      "text/plain": [
       "4×136 Matrix{Float64}:\n",
       " 1.0  1.0  1.0  1.0  1.0  1.0  1.0  1.0  …  1.0  1.0  1.0  1.0  1.0  1.0  1.0\n",
       " 2.0  2.0  2.0  2.0  2.0  2.0  2.0  2.0     2.0  2.0  2.0  2.0  2.0  2.0  2.0\n",
       " 3.0  3.0  3.0  3.0  3.0  3.0  3.0  3.0     3.0  3.0  3.0  3.0  3.0  3.0  3.0\n",
       " 4.0  4.0  4.0  4.0  4.0  4.0  4.0  4.0     4.0  4.0  4.0  4.0  4.0  4.0  4.0"
      ]
     },
     "metadata": {},
     "output_type": "display_data"
    },
    {
     "name": "stdout",
     "output_type": "stream",
     "text": [
      "RepeatsTable\n"
     ]
    },
    {
     "data": {
      "text/plain": [
       "4×136 Matrix{Float64}:\n",
       " 1.0  1.0  1.0  1.0  1.0  1.0  1.0  1.0  …  1.0  1.0  1.0  1.0  1.0  1.0  1.0\n",
       " 2.0  2.0  2.0  2.0  2.0  2.0  2.0  2.0     2.0  2.0  2.0  2.0  2.0  2.0  2.0\n",
       " 3.0  3.0  3.0  3.0  3.0  3.0  3.0  3.0     3.0  3.0  3.0  3.0  3.0  3.0  3.0\n",
       " 4.0  4.0  4.0  4.0  4.0  4.0  4.0  4.0     4.0  4.0  4.0  4.0  4.0  4.0  4.0"
      ]
     },
     "metadata": {},
     "output_type": "display_data"
    },
    {
     "name": "stdout",
     "output_type": "stream",
     "text": [
      "DeviationProfiles\n"
     ]
    },
    {
     "data": {
      "text/plain": [
       "4×136 Matrix{Float64}:\n",
       " 1.0  1.0  1.0  1.0  1.0  1.0  1.0  1.0  …  1.0  1.0  1.0  1.0  1.0  1.0  1.0\n",
       " 2.0  2.0  2.0  2.0  2.0  2.0  2.0  2.0     2.0  2.0  2.0  2.0  2.0  2.0  2.0\n",
       " 3.0  3.0  3.0  3.0  3.0  3.0  3.0  3.0     3.0  3.0  3.0  3.0  3.0  3.0  3.0\n",
       " 4.0  4.0  4.0  4.0  4.0  4.0  4.0  4.0     4.0  4.0  4.0  4.0  4.0  4.0  4.0"
      ]
     },
     "metadata": {},
     "output_type": "display_data"
    },
    {
     "name": "stdout",
     "output_type": "stream",
     "text": [
      "WeightedPayoffs\n"
     ]
    },
    {
     "data": {
      "text/plain": [
       "4×136 Matrix{Float64}:\n",
       " 1.0  1.0  1.0  1.0  1.0  1.0  1.0  1.0  …  1.0  1.0  1.0  1.0  1.0  1.0  1.0\n",
       " 2.0  2.0  2.0  2.0  2.0  2.0  2.0  2.0     2.0  2.0  2.0  2.0  2.0  2.0  2.0\n",
       " 3.0  3.0  3.0  3.0  3.0  3.0  3.0  3.0     3.0  3.0  3.0  3.0  3.0  3.0  3.0\n",
       " 4.0  4.0  4.0  4.0  4.0  4.0  4.0  4.0     4.0  4.0  4.0  4.0  4.0  4.0  4.0"
      ]
     },
     "metadata": {},
     "output_type": "display_data"
    },
    {
     "name": "stdout",
     "output_type": "stream",
     "text": [
      "LogProbabilities\n"
     ]
    },
    {
     "data": {
      "text/plain": [
       "4×136 Matrix{Float64}:\n",
       " 1.0  1.0  1.0  1.0  1.0  1.0  1.0  1.0  …  1.0  1.0  1.0  1.0  1.0  1.0  1.0\n",
       " 2.0  2.0  2.0  2.0  2.0  2.0  2.0  2.0     2.0  2.0  2.0  2.0  2.0  2.0  2.0\n",
       " 3.0  3.0  3.0  3.0  3.0  3.0  3.0  3.0     3.0  3.0  3.0  3.0  3.0  3.0  3.0\n",
       " 4.0  4.0  4.0  4.0  4.0  4.0  4.0  4.0     4.0  4.0  4.0  4.0  4.0  4.0  4.0"
      ]
     },
     "metadata": {},
     "output_type": "display_data"
    },
    {
     "name": "stdout",
     "output_type": "stream",
     "text": [
      "GPUArrays\n"
     ]
    },
    {
     "data": {
      "text/plain": [
       "4×136 Matrix{Float32}:\n",
       " 1.0  1.0  1.0  1.0  1.0  1.0  1.0  1.0  …  1.0  1.0  1.0  1.0  1.0  1.0  1.0\n",
       " 2.0  2.0  2.0  2.0  2.0  2.0  2.0  2.0     2.0  2.0  2.0  2.0  2.0  2.0  2.0\n",
       " 3.0  3.0  3.0  3.0  3.0  3.0  3.0  3.0     3.0  3.0  3.0  3.0  3.0  3.0  3.0\n",
       " 4.0  4.0  4.0  4.0  4.0  4.0  4.0  4.0     4.0  4.0  4.0  4.0  4.0  4.0  4.0"
      ]
     },
     "metadata": {},
     "output_type": "display_data"
    },
    {
     "name": "stdout",
     "output_type": "stream",
     "text": [
      "CPU_32bit\n"
     ]
    },
    {
     "data": {
      "text/plain": [
       "4×136 Matrix{Float32}:\n",
       " 1.0  1.0  1.0  1.0  1.0  1.0  1.0  1.0  …  1.0  1.0  1.0  1.0  1.0  1.0  1.0\n",
       " 2.0  2.0  2.0  2.0  2.0  2.0  2.0  2.0     2.0  2.0  2.0  2.0  2.0  2.0  2.0\n",
       " 3.0  3.0  3.0  3.0  3.0  3.0  3.0  3.0     3.0  3.0  3.0  3.0  3.0  3.0  3.0\n",
       " 4.0  4.0  4.0  4.0  4.0  4.0  4.0  4.0     4.0  4.0  4.0  4.0  4.0  4.0  4.0"
      ]
     },
     "metadata": {},
     "output_type": "display_data"
    }
   ],
   "source": [
    "println(\"PayoffDict\")\n",
    "g1_devs = many_deviation_payoffs(g1, mixtures)\n",
    "display(g1_devs)\n",
    "println(\"PayoffArrays\")\n",
    "g2_devs = many_deviation_payoffs(g2, mixtures)\n",
    "display(g2_devs)\n",
    "println(\"RepeatsTable\")\n",
    "g3_devs = many_deviation_payoffs(g3, mixtures)\n",
    "display(g3_devs)\n",
    "println(\"DeviationProfiles\")\n",
    "g4_devs = many_deviation_payoffs(g4, mixtures)\n",
    "display(g4_devs)\n",
    "println(\"WeightedPayoffs\")\n",
    "g5_devs = many_deviation_payoffs(g5, mixtures)\n",
    "display(g5_devs)\n",
    "println(\"LogProbabilities\")\n",
    "g6_devs = many_deviation_payoffs(g6, mixtures)\n",
    "display(g6_devs)\n",
    "println(\"GPUArrays\")\n",
    "g7_devs = many_deviation_payoffs(g7, mixtures)\n",
    "display(g7_devs)\n",
    "println(\"CPU_32bit\")\n",
    "g8_devs = many_deviation_payoffs(g8, mixtures)\n",
    "display(g8_devs)"
   ]
  },
  {
   "cell_type": "code",
   "execution_count": 7,
   "metadata": {},
   "outputs": [
    {
     "name": "stdout",
     "output_type": "stream",
     "text": [
      "g1 - PayoffDict:        true\n",
      "g2 - PayoffArrays:      true\n",
      "g3 - RepeatsTable:      true\n",
      "g4 - DeviationProfiles: true\n",
      "g5 - WeightedPayoffs:   true\n",
      "g6 - LogProbabilities:  true\n",
      "g7 - GPUArrays:         true\n"
     ]
    }
   ],
   "source": [
    "println(\"g1 - PayoffDict:        \", isapprox(correct_dev_pays, g1_devs, atol=1e-6))\n",
    "println(\"g2 - PayoffArrays:      \", isapprox(correct_dev_pays, g2_devs, atol=1e-6))\n",
    "println(\"g3 - RepeatsTable:      \", isapprox(correct_dev_pays, g3_devs, atol=1e-6))\n",
    "println(\"g4 - DeviationProfiles: \", isapprox(correct_dev_pays, g4_devs, atol=1e-6))\n",
    "println(\"g5 - WeightedPayoffs:   \", isapprox(correct_dev_pays, g5_devs, atol=1e-6))\n",
    "println(\"g6 - LogProbabilities:  \", isapprox(correct_dev_pays, g6_devs, atol=1e-6))\n",
    "println(\"g7 - GPUArrays:         \", isapprox(correct_dev_pays, g7_devs, atol=1e-6))"
   ]
  },
  {
   "cell_type": "code",
   "execution_count": null,
   "metadata": {},
   "outputs": [],
   "source": []
  }
 ],
 "metadata": {
  "kernelspec": {
   "display_name": "Julia 1.7.2",
   "language": "julia",
   "name": "julia-1.7"
  },
  "language_info": {
   "file_extension": ".jl",
   "mimetype": "application/julia",
   "name": "julia",
   "version": "1.7.2"
  }
 },
 "nbformat": 4,
 "nbformat_minor": 4
}
