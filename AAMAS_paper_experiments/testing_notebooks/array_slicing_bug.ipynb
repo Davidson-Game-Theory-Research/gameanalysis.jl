{
 "cells": [
  {
   "cell_type": "code",
   "execution_count": 1,
   "metadata": {},
   "outputs": [
    {
     "data": {
      "text/plain": [
       "2×5 Matrix{Int64}:\n",
       " 2  6  10  14  18\n",
       " 3  7  11  15  19"
      ]
     },
     "metadata": {},
     "output_type": "display_data"
    },
    {
     "data": {
      "text/plain": [
       "4×2 Matrix{Int64}:\n",
       " 5   9\n",
       " 6  10\n",
       " 7  11\n",
       " 8  12"
      ]
     },
     "metadata": {},
     "output_type": "display_data"
    }
   ],
   "source": [
    "M = Array(reshape(1:4*5, 4,5))\n",
    "k = zeros(Bool, 4)\n",
    "k[2:3] .= 1\n",
    "display(M[k,:])\n",
    "l = zeros(Bool, 5)\n",
    "l[2:3] .= 1\n",
    "display(M[:,l])"
   ]
  },
  {
   "cell_type": "code",
   "execution_count": 41,
   "metadata": {},
   "outputs": [
    {
     "data": {
      "text/plain": [
       "2×4 Matrix{Int64}:\n",
       " 3   9  15  21\n",
       " 5  11  17  23"
      ]
     },
     "metadata": {},
     "output_type": "display_data"
    },
    {
     "ename": "LoadError",
     "evalue": "BoundsError: attempt to access 2×3×4 Array{Int64, 3} at index [1:2, 3×4 Matrix{Bool}]",
     "output_type": "error",
     "traceback": [
      "BoundsError: attempt to access 2×3×4 Array{Int64, 3} at index [1:2, 3×4 Matrix{Bool}]",
      "",
      "Stacktrace:",
      " [1] throw_boundserror(A::Array{Int64, 3}, I::Tuple{Base.Slice{Base.OneTo{Int64}}, Base.LogicalIndex{Int64, Matrix{Bool}}})",
      "   @ Base ./abstractarray.jl:691",
      " [2] checkbounds",
      "   @ ./abstractarray.jl:656 [inlined]",
      " [3] _getindex",
      "   @ ./multidimensional.jl:838 [inlined]",
      " [4] getindex(::Array{Int64, 3}, ::Function, ::Matrix{Bool})",
      "   @ Base ./abstractarray.jl:1218",
      " [5] top-level scope",
      "   @ In[41]:7",
      " [6] eval",
      "   @ ./boot.jl:373 [inlined]",
      " [7] include_string(mapexpr::typeof(REPL.softscope), mod::Module, code::String, filename::String)",
      "   @ Base ./loading.jl:1196"
     ]
    }
   ],
   "source": [
    "T = Array(reshape(1:2*3*4, 2,3,4))\n",
    "i = zeros(Bool, 2,3)\n",
    "i[1,2:3] .= 1\n",
    "display(T[i,:])\n",
    "j = zeros(Bool, 3,4)\n",
    "j[1:2,3:4] .= 1\n",
    "display(T[:,j])"
   ]
  },
  {
   "cell_type": "code",
   "execution_count": 39,
   "metadata": {},
   "outputs": [
    {
     "data": {
      "text/plain": [
       "2×3×4 Array{Int64, 3}:\n",
       "[:, :, 1] =\n",
       " 1  3  5\n",
       " 2  4  6\n",
       "\n",
       "[:, :, 2] =\n",
       " 7   9  11\n",
       " 8  10  12\n",
       "\n",
       "[:, :, 3] =\n",
       " 13  15  17\n",
       " 14  16  18\n",
       "\n",
       "[:, :, 4] =\n",
       " 19  21  23\n",
       " 20  22  24"
      ]
     },
     "execution_count": 39,
     "metadata": {},
     "output_type": "execute_result"
    }
   ],
   "source": [
    "T"
   ]
  },
  {
   "cell_type": "code",
   "execution_count": 40,
   "metadata": {},
   "outputs": [
    {
     "data": {
      "text/plain": [
       "3×4 Matrix{Int64}:\n",
       " 1   7  13  19\n",
       " 3   9  15  21\n",
       " 5  11  17  23"
      ]
     },
     "metadata": {},
     "output_type": "display_data"
    },
    {
     "data": {
      "text/plain": [
       "3×4 Matrix{Int64}:\n",
       " 2   8  14  20\n",
       " 4  10  16  22\n",
       " 6  12  18  24"
      ]
     },
     "metadata": {},
     "output_type": "display_data"
    }
   ],
   "source": [
    "for i = 1:2\n",
    "    display(T[i,:,:])\n",
    "end\n",
    "# T[:,findall(j)] .= 0\n",
    "# for i = 1:2\n",
    "#     display(T[i,:,:])\n",
    "# end"
   ]
  },
  {
   "cell_type": "code",
   "execution_count": 42,
   "metadata": {},
   "outputs": [
    {
     "data": {
      "text/plain": [
       "3×4 Matrix{Bool}:\n",
       " 0  0  1  1\n",
       " 0  0  1  1\n",
       " 0  0  0  0"
      ]
     },
     "metadata": {},
     "output_type": "display_data"
    },
    {
     "data": {
      "text/plain": [
       "4-element Vector{CartesianIndex{2}}:\n",
       " CartesianIndex(1, 3)\n",
       " CartesianIndex(2, 3)\n",
       " CartesianIndex(1, 4)\n",
       " CartesianIndex(2, 4)"
      ]
     },
     "metadata": {},
     "output_type": "display_data"
    }
   ],
   "source": [
    "display(j)\n",
    "display(findall(j))"
   ]
  },
  {
   "cell_type": "code",
   "execution_count": 43,
   "metadata": {},
   "outputs": [
    {
     "data": {
      "text/plain": [
       "2×4 Matrix{Int64}:\n",
       " 13  15  19  21\n",
       " 14  16  20  22"
      ]
     },
     "execution_count": 43,
     "metadata": {},
     "output_type": "execute_result"
    }
   ],
   "source": [
    "T[:,findall(j)]"
   ]
  },
  {
   "cell_type": "code",
   "execution_count": null,
   "metadata": {},
   "outputs": [],
   "source": []
  }
 ],
 "metadata": {
  "kernelspec": {
   "display_name": "Julia 1.7.2",
   "language": "julia",
   "name": "julia-1.7"
  },
  "language_info": {
   "file_extension": ".jl",
   "mimetype": "application/julia",
   "name": "julia",
   "version": "1.7.2"
  }
 },
 "nbformat": 4,
 "nbformat_minor": 4
}
