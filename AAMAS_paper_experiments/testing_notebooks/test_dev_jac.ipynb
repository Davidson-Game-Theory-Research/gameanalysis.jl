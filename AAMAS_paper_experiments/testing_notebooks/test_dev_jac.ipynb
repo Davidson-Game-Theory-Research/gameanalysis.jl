{
 "cells": [
  {
   "cell_type": "code",
   "execution_count": 1,
   "metadata": {},
   "outputs": [],
   "source": [
    "using Revise\n",
    "using ReverseDiff\n",
    "using BenchmarkTools"
   ]
  },
  {
   "cell_type": "code",
   "execution_count": 2,
   "metadata": {},
   "outputs": [
    {
     "data": {
      "text/plain": [
       "#14 (generic function with 1 method)"
      ]
     },
     "execution_count": 2,
     "metadata": {},
     "output_type": "execute_result"
    }
   ],
   "source": [
    "includet(\"AbstractGames.jl\")\n",
    "includet(\"SymmetricGames.jl\")\n",
    "includet(\"RandomGames.jl\")\n",
    "includet(\"SimplexOperations.jl\")"
   ]
  },
  {
   "cell_type": "code",
   "execution_count": 7,
   "metadata": {},
   "outputs": [
    {
     "data": {
      "text/plain": [
       "5×3 Matrix{Float64}:\n",
       " 0.0862174  0.02959     0.0749943\n",
       " 0.0905845  0.523037    0.0515975\n",
       " 0.322242   0.0191039   0.100502\n",
       " 0.0132215  0.00197071  0.716924\n",
       " 0.487734   0.426298    0.0559825"
      ]
     },
     "execution_count": 7,
     "metadata": {},
     "output_type": "execute_result"
    }
   ],
   "source": [
    "p = 60\n",
    "s = 5\n",
    "agg = additive_sin_game(p,s,200,sin_params=Dict(:period_range=>[0,100],:amplitude_range=>[0,1000]))\n",
    "lpg = to_sym_game(agg, LogProbabilities)\n",
    "gag = to_sym_game(agg, GPUArrays)\n",
    "um = uniform_mixture(s)\n",
    "mm = random_mixtures(s, 3)"
   ]
  },
  {
   "cell_type": "code",
   "execution_count": 14,
   "metadata": {},
   "outputs": [
    {
     "data": {
      "text/plain": [
       "5-element Vector{Float64}:\n",
       "  9817.601893953355\n",
       " 10351.675103619575\n",
       " 10452.499548626474\n",
       "  9135.340557279074\n",
       " 10123.921647511661"
      ]
     },
     "execution_count": 14,
     "metadata": {},
     "output_type": "execute_result"
    }
   ],
   "source": [
    "gf = optimizable_gain(lpg)\n",
    "ReverseDiff.gradient(gf, um)"
   ]
  },
  {
   "cell_type": "code",
   "execution_count": 15,
   "metadata": {},
   "outputs": [
    {
     "data": {
      "text/plain": [
       "5-element Vector{Float64}:\n",
       "  9817.601893954234\n",
       " 10351.675103620808\n",
       " 10452.4995486273\n",
       "  9135.340557280739\n",
       " 10123.92164751335"
      ]
     },
     "execution_count": 15,
     "metadata": {},
     "output_type": "execute_result"
    }
   ],
   "source": [
    "gain_gradients(lpg, um)"
   ]
  },
  {
   "cell_type": "code",
   "execution_count": 13,
   "metadata": {},
   "outputs": [
    {
     "data": {
      "text/plain": [
       "5-element Vector{Float64}:\n",
       "  9817.610818979614\n",
       " 10351.68539940388\n",
       " 10452.510711330604\n",
       "  9135.350502451714\n",
       " 10123.932240040103"
      ]
     },
     "execution_count": 13,
     "metadata": {},
     "output_type": "execute_result"
    }
   ],
   "source": [
    "gain_gradients(gag, um)"
   ]
  },
  {
   "cell_type": "code",
   "execution_count": null,
   "metadata": {},
   "outputs": [],
   "source": []
  }
 ],
 "metadata": {
  "kernelspec": {
   "display_name": "Julia 1.7.2",
   "language": "julia",
   "name": "julia-1.7"
  },
  "language_info": {
   "file_extension": ".jl",
   "mimetype": "application/julia",
   "name": "julia",
   "version": "1.7.2"
  }
 },
 "nbformat": 4,
 "nbformat_minor": 4
}
