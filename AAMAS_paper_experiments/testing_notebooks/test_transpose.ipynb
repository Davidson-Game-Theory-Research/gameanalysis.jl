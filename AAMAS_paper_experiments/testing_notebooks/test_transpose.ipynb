{
 "cells": [
  {
   "cell_type": "code",
   "execution_count": 1,
   "metadata": {},
   "outputs": [],
   "source": [
    "using Revise\n",
    "includet(\"../SimplexOperations.jl\")\n",
    "includet(\"../AbstractGames.jl\")\n",
    "includet(\"../SymmetricGames.jl\")\n",
    "includet(\"../ActionGraphGames.jl\")\n",
    "includet(\"../RandomFunctions.jl\")\n",
    "includet(\"../RandomGames.jl\")\n",
    "includet(\"../Nash.jl\")"
   ]
  },
  {
   "cell_type": "code",
   "execution_count": 2,
   "metadata": {},
   "outputs": [
    {
     "data": {
      "text/plain": [
       "3×10 Matrix{Float64}:\n",
       " 1.0  0.666667  0.666667  0.333333  0.333333  …  0.0  0.0       0.0       0.0\n",
       " 0.0  0.333333  0.0       0.666667  0.333333     1.0  0.666667  0.333333  0.0\n",
       " 0.0  0.0       0.333333  0.0       0.333333     0.0  0.333333  0.666667  1.0"
      ]
     },
     "metadata": {},
     "output_type": "display_data"
    }
   ],
   "source": [
    "players = 10\n",
    "actions = 3\n",
    "functions = 20\n",
    "agg = additive_sin_game(players, actions, functions, sin_params=Dict(:period_range=>[0,100],:amplitude_range=>[0,1000]))\n",
    "mg = mixture_grid(actions, 4)"
   ]
  },
  {
   "cell_type": "code",
   "execution_count": 4,
   "metadata": {},
   "outputs": [
    {
     "data": {
      "text/plain": [
       "GPUArrays(10, 3, Float32[9.0 8.0 … 0.0 0.0; 0.0 1.0 … 1.0 0.0; 0.0 0.0 … 8.0 9.0], Float32[5.8055086 8.111156 … 9.055344 6.882755; 6.616792 8.7595825 … 8.712239 6.581711; 5.731514 7.621434 … 8.96175 6.9077554], 1710.5547f0, 0.4003017f0)"
      ]
     },
     "metadata": {},
     "output_type": "display_data"
    }
   ],
   "source": [
    "PD = to_sym_game(agg, PayoffDict)\n",
    "PA = to_sym_game(agg, PayoffArrays)\n",
    "RT = to_sym_game(agg, RepeatsTable)\n",
    "DP = to_sym_game(agg, DeviationProfiles)\n",
    "WP = to_sym_game(agg, WeightedPayoffs)\n",
    "LP = to_sym_game(agg, LogProbabilities)\n",
    "GA = to_sym_game(agg, GPUArrays)"
   ]
  },
  {
   "cell_type": "code",
   "execution_count": 6,
   "metadata": {},
   "outputs": [
    {
     "data": {
      "text/plain": [
       "3×10 Matrix{Float64}:\n",
       " -1029.78   -1219.83    -415.829  -737.663  …  -128.421  -710.352    193.96\n",
       "  -251.126   -443.011     54.007  -587.122     -275.176  -351.967    130.317\n",
       " -1173.78    -866.157  -1443.38   -390.127     -639.388  -771.041  -1352.98"
      ]
     },
     "metadata": {},
     "output_type": "display_data"
    }
   ],
   "source": [
    "deviation_payoffs(agg, mg)"
   ]
  },
  {
   "cell_type": "code",
   "execution_count": 12,
   "metadata": {},
   "outputs": [
    {
     "name": "stdout",
     "output_type": "stream",
     "text": [
      "all good\n"
     ]
    }
   ],
   "source": [
    "if isapprox(denormalize(PD, deviation_payoffs(PD, mg)), deviation_payoffs(agg, mg))\n",
    "    println(\"all good\")\n",
    "else\n",
    "    display(denormalize(PD, deviation_payoffs(PD, mg)))\n",
    "end"
   ]
  },
  {
   "cell_type": "code",
   "execution_count": 17,
   "metadata": {},
   "outputs": [
    {
     "name": "stdout",
     "output_type": "stream",
     "text": [
      "all good\n"
     ]
    }
   ],
   "source": [
    "if isapprox(denormalize(PA, deviation_payoffs(PA, mg)), deviation_payoffs(agg, mg))\n",
    "    println(\"all good\")\n",
    "else\n",
    "    display(denormalize(PA, deviation_payoffs(PA, mg)))\n",
    "end"
   ]
  },
  {
   "cell_type": "code",
   "execution_count": 11,
   "metadata": {},
   "outputs": [
    {
     "name": "stdout",
     "output_type": "stream",
     "text": [
      "all good\n"
     ]
    }
   ],
   "source": [
    "if isapprox(denormalize(RT, deviation_payoffs(RT, mg)), deviation_payoffs(agg, mg))\n",
    "    println(\"all good\")\n",
    "else\n",
    "    display(denormalize(RT, deviation_payoffs(RT, mg)))\n",
    "end"
   ]
  },
  {
   "cell_type": "code",
   "execution_count": 19,
   "metadata": {},
   "outputs": [
    {
     "name": "stdout",
     "output_type": "stream",
     "text": [
      "all good\n"
     ]
    }
   ],
   "source": [
    "if isapprox(denormalize(DP, deviation_payoffs(DP, mg)), deviation_payoffs(agg, mg))\n",
    "    println(\"all good\")\n",
    "else\n",
    "    display(denormalize(DP, deviation_payoffs(DP, mg)))\n",
    "end"
   ]
  },
  {
   "cell_type": "code",
   "execution_count": 22,
   "metadata": {},
   "outputs": [
    {
     "name": "stdout",
     "output_type": "stream",
     "text": [
      "all good\n"
     ]
    }
   ],
   "source": [
    "if isapprox(denormalize(WP, deviation_payoffs(WP, mg)), deviation_payoffs(agg, mg))\n",
    "    println(\"all good\")\n",
    "else\n",
    "    display(denormalize(WP, deviation_payoffs(WP, mg)))\n",
    "end"
   ]
  },
  {
   "cell_type": "code",
   "execution_count": 27,
   "metadata": {},
   "outputs": [
    {
     "name": "stdout",
     "output_type": "stream",
     "text": [
      "all good\n"
     ]
    }
   ],
   "source": [
    "if isapprox(denormalize(LP, deviation_payoffs(LP, mg)), deviation_payoffs(agg, mg))\n",
    "    println(\"all good\")\n",
    "else\n",
    "    display(denormalize(LP, deviation_payoffs(LP, mg)))\n",
    "end"
   ]
  },
  {
   "cell_type": "code",
   "execution_count": 5,
   "metadata": {},
   "outputs": [
    {
     "name": "stdout",
     "output_type": "stream",
     "text": [
      "all good\n"
     ]
    }
   ],
   "source": [
    "if isapprox(denormalize(GA, deviation_payoffs(GA, mg)), deviation_payoffs(agg, mg))\n",
    "    println(\"all good\")\n",
    "else\n",
    "    display(denormalize(GA, deviation_payoffs(GA, mg)))\n",
    "end"
   ]
  },
  {
   "cell_type": "code",
   "execution_count": null,
   "metadata": {},
   "outputs": [],
   "source": []
  }
 ],
 "metadata": {
  "kernelspec": {
   "display_name": "Julia 1.7.2",
   "language": "julia",
   "name": "julia-1.7"
  },
  "language_info": {
   "file_extension": ".jl",
   "mimetype": "application/julia",
   "name": "julia",
   "version": "1.7.2"
  },
  "orig_nbformat": 4,
  "vscode": {
   "interpreter": {
    "hash": "e7370f93d1d0cde622a1f8e1c04877d8463912d04d973331ad4851f04de6915a"
   }
  }
 },
 "nbformat": 4,
 "nbformat_minor": 2
}
