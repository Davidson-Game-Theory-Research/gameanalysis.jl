{
 "cells": [
  {
   "cell_type": "code",
   "execution_count": 1,
   "metadata": {},
   "outputs": [],
   "source": [
    "using Revise\n",
    "\n",
    "includet(\"../GameAnalysis.jl\")\n",
    "includet(\"../SimplexPlots.jl\")"
   ]
  },
  {
   "cell_type": "code",
   "execution_count": 3,
   "metadata": {},
   "outputs": [
    {
     "data": {
      "text/plain": [
       "mixture_set_intersection (generic function with 1 method)"
      ]
     },
     "metadata": {},
     "output_type": "display_data"
    }
   ],
   "source": [
    "function mixture_set_intersection(s1, s2; max_diff=1e-2)\n",
    "    shared = zeros(size(s1,1), min(size(s1,2),size(s2,2)))\n",
    "    count = 0\n",
    "    for i in 1:size(s1,2)\n",
    "        m1 = s1[:,i]\n",
    "        for j in 1:size(s2,2)\n",
    "            m2 = s2[:,j]\n",
    "            if maximum(m1 .- m2) < max_diff\n",
    "                count += 1\n",
    "                shared[:,count] = m1\n",
    "            end\n",
    "        end\n",
    "    end\n",
    "    return shared[:,1:count]\n",
    "end"
   ]
  },
  {
   "cell_type": "code",
   "execution_count": 47,
   "metadata": {},
   "outputs": [
    {
     "name": "stderr",
     "output_type": "stream",
     "text": [
      "\n",
      "kpathsea: Running mktextfm phvr8t\n",
      "/usr/share/texlive/texmf-dist/web2c/mktexnam: Could not map source abbreviation  for phvr8t.\n",
      "/usr/share/texlive/texmf-dist/web2c/mktexnam: Need to update ?\n",
      "mktextfm: Running mf-nowin -progname=mf \\mode:=ljfour; mag:=1; nonstopmode; input phvr8t\n",
      "This is METAFONT, Version 2.7182818 (TeX Live 2019/Debian) (preloaded base=mf)\n",
      "\n",
      "kpathsea: Running mktexmf phvr8t\n",
      "\n",
      "! I can't find file `phvr8t'.\n",
      "<*> ...:=ljfour; mag:=1; nonstopmode; input phvr8t\n",
      "                                                  \n",
      "Please type another input file name\n",
      "! Emergency stop.\n",
      "<*> ...:=ljfour; mag:=1; nonstopmode; input phvr8t\n",
      "                                                  \n",
      "Transcript written on mfput.log.\n",
      "grep: phvr8t.log: No such file or directory\n",
      "mktextfm: `mf-nowin -progname=mf \\mode:=ljfour; mag:=1; nonstopmode; input phvr8t' failed to make phvr8t.tfm.\n",
      "kpathsea: Appending font creation commands to missfont.log.\n",
      "\n",
      "kpathsea: Running mktextfm phvr8t\n",
      "/usr/share/texlive/texmf-dist/web2c/mktexnam: Could not map source abbreviation  for phvr8t.\n",
      "/usr/share/texlive/texmf-dist/web2c/mktexnam: Need to update ?\n",
      "mktextfm: Running mf-nowin -progname=mf \\mode:=ljfour; mag:=1; nonstopmode; input phvr8t\n",
      "This is METAFONT, Version 2.7182818 (TeX Live 2019/Debian) (preloaded base=mf)\n",
      "\n",
      "kpathsea: Running mktexmf phvr8t\n",
      "\n",
      "! I can't find file `phvr8t'.\n",
      "<*> ...:=ljfour; mag:=1; nonstopmode; input phvr8t\n",
      "                                                  \n",
      "Please type another input file name\n",
      "! Emergency stop.\n",
      "<*> ...:=ljfour; mag:=1; nonstopmode; input phvr8t\n",
      "                                                  \n",
      "Transcript written on mfput.log.\n",
      "grep: phvr8t.log: No such file or directory\n",
      "mktextfm: `mf-nowin -progname=mf \\mode:=ljfour; mag:=1; nonstopmode; input phvr8t' failed to make phvr8t.tfm.\n",
      "kpathsea: Appending font creation commands to missfont.log.\n",
      "\n",
      "kpathsea: Running mktextfm phvr8t\n",
      "/usr/share/texlive/texmf-dist/web2c/mktexnam: Could not map source abbreviation  for phvr8t.\n",
      "/usr/share/texlive/texmf-dist/web2c/mktexnam: Need to update ?\n",
      "mktextfm: Running mf-nowin -progname=mf \\mode:=ljfour; mag:=1; nonstopmode; input phvr8t\n",
      "This is METAFONT, Version 2.7182818 (TeX Live 2019/Debian) (preloaded base=mf)\n",
      "\n",
      "kpathsea: Running mktexmf phvr8t\n",
      "\n",
      "! I can't find file `phvr8t'.\n",
      "<*> ...:=ljfour; mag:=1; nonstopmode; input phvr8t\n",
      "                                                  \n",
      "Please type another input file name\n",
      "! Emergency stop.\n",
      "<*> ...:=ljfour; mag:=1; nonstopmode; input phvr8t\n",
      "                                                  \n",
      "Transcript written on mfput.log.\n",
      "grep: phvr8t.log: No such file or directory\n",
      "mktextfm: `mf-nowin -progname=mf \\mode:=ljfour; mag:=1; nonstopmode; input phvr8t' failed to make phvr8t.tfm.\n",
      "kpathsea: Appending font creation commands to missfont.log.\n",
      "psxy [WARNING]: File <stdin> is empty!\n"
     ]
    }
   ],
   "source": [
    "players = 100\n",
    "actions = 3\n",
    "functions = 200\n",
    "gmg = gaussian_mixture_game(players, actions, functions)\n",
    "fine_grid = mixture_grid(actions, 89)\n",
    "coarse_grid = simplex_project(mixture_grid(actions, 13), .99)\n",
    "regret_grid = regret(gmg, fine_grid);\n",
    "simplex_heatmap(fine_grid, regret_grid)\n",
    "plot!(savefig=\"../figures/gmg_regret.png\")"
   ]
  },
  {
   "cell_type": "code",
   "execution_count": 48,
   "metadata": {},
   "outputs": [
    {
     "data": {
      "text/plain": [
       "3×5 Matrix{Float64}:\n",
       " 0.17  0.97  0.0   0.28  0.03\n",
       " 0.49  0.03  0.12  0.72  0.9\n",
       " 0.34  0.0   0.88  0.0   0.06"
      ]
     },
     "metadata": {},
     "output_type": "display_data"
    },
    {
     "data": {
      "text/plain": [
       "3×9 Matrix{Float64}:\n",
       " 0.27  0.05  0.97  0.77  0.08  0.28  0.28  0.17  0.0\n",
       " 0.6   0.93  0.03  0.06  0.62  0.72  0.45  0.49  0.38\n",
       " 0.13  0.03  0.0   0.17  0.3   0.0   0.27  0.34  0.62"
      ]
     },
     "metadata": {},
     "output_type": "display_data"
    },
    {
     "data": {
      "text/plain": [
       "3×3 Matrix{Float64}:\n",
       " 0.17  0.97  0.28\n",
       " 0.49  0.03  0.72\n",
       " 0.34  0.0   0.0"
      ]
     },
     "metadata": {},
     "output_type": "display_data"
    },
    {
     "name": "stdout",
     "output_type": "stream",
     "text": [
      "Replicator Dynamics found 5 equilibria:\n",
      "Regrets: [5.19e-6, 4.33e-7, 7.3e-6, 0.0, 4.14e-5]\n",
      "Gradient Descent found 9 equilibria:\n",
      "Regrets: [7.73e-6, 1.14e-6, 4.33e-7, 1.43e-5, 1.03e-5, 8.57e-6, 1.68e-5, 3.38e-5, 4.76e-5]\n"
     ]
    }
   ],
   "source": [
    "reg_thresh = 1e-4\n",
    "rd_trace = logged_replicator_dynamics(gmg, coarse_grid; offset=-1000, iters=10000);\n",
    "rd_endpoints = rd_trace[:,:,end]\n",
    "rd_equilibria = filter_unique(filter_regrets(gmg, rd_endpoints, threshold=reg_thresh), max_diff=0.02) \n",
    "println(\"Replicator Dynamics found \", size(rd_equilibria, 2), \" equilibria:\")\n",
    "display(round.(rd_equilibria, digits=2))\n",
    "println(\"Regrets: \", round.(regret(gmg, rd_equilibria), sigdigits=3))\n",
    "\n",
    "gd_trace = logged_gain_descent(gmg, coarse_grid, step_size=[1e-5 * .99^i for i in 1:10000], iters=10000)\n",
    "gd_endpoints = gd_trace[:,:,end]\n",
    "gd_equilibria = filter_unique(filter_regrets(gmg, gd_endpoints, threshold=reg_thresh), max_diff=0.02) \n",
    "println(\"Gradient Descent found \", size(gd_equilibria, 2), \" equilibria:\")\n",
    "display(round.(gd_equilibria, digits=2))\n",
    "println(\"Regrets: \", round.(regret(gmg, gd_equilibria), sigdigits=3))\n",
    "\n",
    "shared_equilibria = mixture_set_intersection(rd_equilibria, gd_equilibria)\n",
    "display(round.(shared_equilibria, digits=2))"
   ]
  },
  {
   "cell_type": "code",
   "execution_count": 50,
   "metadata": {},
   "outputs": [
    {
     "name": "stderr",
     "output_type": "stream",
     "text": [
      "\n",
      "kpathsea: Running mktextfm phvr8t\n",
      "/usr/share/texlive/texmf-dist/web2c/mktexnam: Could not map source abbreviation  for phvr8t.\n",
      "/usr/share/texlive/texmf-dist/web2c/mktexnam: Need to update ?\n",
      "mktextfm: Running mf-nowin -progname=mf \\mode:=ljfour; mag:=1; nonstopmode; input phvr8t\n",
      "This is METAFONT, Version 2.7182818 (TeX Live 2019/Debian) (preloaded base=mf)\n",
      "\n",
      "kpathsea: Running mktexmf phvr8t\n",
      "\n",
      "! I can't find file `phvr8t'.\n",
      "<*> ...:=ljfour; mag:=1; nonstopmode; input phvr8t\n",
      "                                                  \n",
      "Please type another input file name\n",
      "! Emergency stop.\n",
      "<*> ...:=ljfour; mag:=1; nonstopmode; input phvr8t\n",
      "                                                  \n",
      "Transcript written on mfput.log.\n",
      "grep: phvr8t.log: No such file or directory\n",
      "mktextfm: `mf-nowin -progname=mf \\mode:=ljfour; mag:=1; nonstopmode; input phvr8t' failed to make phvr8t.tfm.\n",
      "kpathsea: Appending font creation commands to missfont.log.\n",
      "\n",
      "kpathsea: Running mktextfm phvr8t\n",
      "/usr/share/texlive/texmf-dist/web2c/mktexnam: Could not map source abbreviation  for phvr8t.\n",
      "/usr/share/texlive/texmf-dist/web2c/mktexnam: Need to update ?\n",
      "mktextfm: Running mf-nowin -progname=mf \\mode:=ljfour; mag:=1; nonstopmode; input phvr8t\n",
      "This is METAFONT, Version 2.7182818 (TeX Live 2019/Debian) (preloaded base=mf)\n",
      "\n",
      "kpathsea: Running mktexmf phvr8t\n",
      "\n",
      "! I can't find file `phvr8t'.\n",
      "<*> ...:=ljfour; mag:=1; nonstopmode; input phvr8t\n",
      "                                                  \n",
      "Please type another input file name\n",
      "! Emergency stop.\n",
      "<*> ...:=ljfour; mag:=1; nonstopmode; input phvr8t\n",
      "                                                  \n",
      "Transcript written on mfput.log.\n",
      "grep: phvr8t.log: No such file or directory\n",
      "mktextfm: `mf-nowin -progname=mf \\mode:=ljfour; mag:=1; nonstopmode; input phvr8t' failed to make phvr8t.tfm.\n",
      "kpathsea: Appending font creation commands to missfont.log.\n",
      "\n",
      "kpathsea: Running mktextfm phvr8t\n",
      "/usr/share/texlive/texmf-dist/web2c/mktexnam: Could not map source abbreviation  for phvr8t.\n",
      "/usr/share/texlive/texmf-dist/web2c/mktexnam: Need to update ?\n",
      "mktextfm: Running mf-nowin -progname=mf \\mode:=ljfour; mag:=1; nonstopmode; input phvr8t\n",
      "This is METAFONT, Version 2.7182818 (TeX Live 2019/Debian) (preloaded base=mf)\n",
      "\n",
      "kpathsea: Running mktexmf phvr8t\n",
      "\n",
      "! I can't find file `phvr8t'.\n",
      "<*> ...:=ljfour; mag:=1; nonstopmode; input phvr8t\n",
      "                                                  \n",
      "Please type another input file name\n",
      "! Emergency stop.\n",
      "<*> ...:=ljfour; mag:=1; nonstopmode; input phvr8t\n",
      "                                                  \n",
      "Transcript written on mfput.log.\n",
      "grep: phvr8t.log: No such file or directory\n",
      "mktextfm: `mf-nowin -progname=mf \\mode:=ljfour; mag:=1; nonstopmode; input phvr8t' failed to make phvr8t.tfm.\n",
      "kpathsea: Appending font creation commands to missfont.log.\n",
      "psxy [WARNING]: File <stdin> is empty!\n"
     ]
    }
   ],
   "source": [
    "simplex_heatmap(fine_grid, regret_grid, show=false)\n",
    "\n",
    "for i in 1:size(coarse_grid,2)\n",
    "    simplex_scatter!(gd_trace[:,i,2:1000], markerfacecolor=:yellow, marker=:p, markersize=.05, show=false)\n",
    "end\n",
    "for i in 1:size(coarse_grid,2)\n",
    "    simplex_scatter!(rd_trace[:,i,2:1000], marker=:d, markerfacecolor=:red, markersize=.05, show=false)\n",
    "end\n",
    "\n",
    "simplex_scatter!(coarse_grid, marker=:p, markersize=.1, markerfacecolor=:black)\n",
    "\n",
    "simplex_scatter!(rd_equilibria, marker=:p, markersize=.2, markerfacecolor=:red, show=false)\n",
    "simplex_scatter!(gd_equilibria, marker=:p, markersize=.2, markerfacecolor=:yellow, show=false)\n",
    "simplex_scatter!(shared_equilibria, marker=:p, markersize=.2, markerfacecolor=:orange, show=false)\n",
    "\n",
    "\n",
    "\n",
    "plot!(savefig=\"../figures/nash_traces.png\")"
   ]
  },
  {
   "cell_type": "code",
   "execution_count": null,
   "metadata": {},
   "outputs": [],
   "source": [
    "reg_thresh = 1e-4\n",
    "gd_trace = logged_gain_descent(gmg, coarse_grid, step_size=[1e-5 * .99^i for i in 1:10000], iters=10000)\n",
    "gd_endpoints = gd_trace[:,:,end]\n",
    "gd_equilibria = filter_unique(filter_regrets(gmg, gd_endpoints, threshold=reg_thresh), max_diff=0.02) \n",
    "println(\"Gradient Descent found \", size(gd_equilibria, 2), \" equilibria:\")\n",
    "display(round.(gd_equilibria, digits=2))\n",
    "println(\"Regrets: \", round.(regret(gmg, gd_equilibria), sigdigits=3))"
   ]
  },
  {
   "cell_type": "code",
   "execution_count": null,
   "metadata": {},
   "outputs": [],
   "source": [
    "simplex_heatmap(fine_grid, regret_grid, show=false, title=\"Gradient Descent\")\n",
    "for i in 1:size(coarse_grid,2)\n",
    "    simplex_scatter!(gd_trace[:,i,2:1000], marker=:p, markersize=.075, show=false)\n",
    "end\n",
    "simplex_scatter!(gd_trace[:,:,1], marker=:p, markersize=.1, markerfacecolor=:purple)\n",
    "for i in 1:size(coarse_grid,2)\n",
    "    if regret(g,g, gd_trace[:,i,1001]) >= reg_thresh\n",
    "        simplex_scatter!(gd_trace[:,i,1001], marker=:p, markersize=.15, markerfacecolor=:red, show=false)\n",
    "    end\n",
    "end\n",
    "for i in 1:size(coarse_grid,2)\n",
    "    if regret(gmg, gd_trace[:,i,1001]) < reg_thresh\n",
    "        simplex_scatter!(gd_trace[:,i,1001], marker=:p, markersize=.2, markerfacecolor=:green, show=false)\n",
    "    end\n",
    "end\n",
    "plot!(show=true)"
   ]
  },
  {
   "cell_type": "code",
   "execution_count": null,
   "metadata": {},
   "outputs": [],
   "source": [
    "reg_thresh = 1e-3\n",
    "fp_trace = logged_fictitious_play(gag, coarse_grid; initial_weight=50, iters=1000000);\n",
    "fp_endpoints = fp_trace[:,:,end]\n",
    "fp_equilibria = filter_unique(filter_regrets(gag, fp_endpoints, threshold=reg_thresh), max_diff=0.02) \n",
    "println(\"Fictitious Play found \", size(fp_equilibria, 2), \" equilibria:\")\n",
    "display(round.(fp_equilibria, digits=2))\n",
    "println(\"Regrets: \", round.(regret(gag, fp_equilibria), sigdigits=3))"
   ]
  },
  {
   "cell_type": "code",
   "execution_count": null,
   "metadata": {},
   "outputs": [],
   "source": [
    "simplex_heatmap(fine_grid, regret_grid, show=false, title=\"Fictitious Play\")\n",
    "for i in 1:size(coarse_grid,2)\n",
    "    simplex_scatter!(fp_trace[:,i,2:1000], marker=:p, markersize=.075, show=false)\n",
    "end\n",
    "simplex_scatter!(fp_trace[:,:,1], marker=:p, markersize=.1, markerfacecolor=:purple)\n",
    "for i in 1:size(coarse_grid,2)\n",
    "    if regret(gag, fp_trace[:,i,1001]) >= reg_thresh\n",
    "        simplex_scatter!(fp_trace[:,i,1001], marker=:p, markersize=.15, markerfacecolor=:red, show=false)\n",
    "    end\n",
    "end\n",
    "for i in 1:size(coarse_grid,2)\n",
    "    if regret(gag, fp_trace[:,i,1001]) < reg_thresh\n",
    "        simplex_scatter!(fp_trace[:,i,1001], marker=:p, markersize=.2, markerfacecolor=:green, show=false)\n",
    "    end\n",
    "end\n",
    "simplex_scatter!(fp_equilibria, marker=:p, markersize=.2, markerfacecolor=:green, show=true)"
   ]
  },
  {
   "cell_type": "code",
   "execution_count": null,
   "metadata": {},
   "outputs": [],
   "source": [
    "reg_thresh = 1e-2\n",
    "ibr_trace = logged_iterated_better_response(gag, coarse_grid; iters=1000000, step_size=2e-4);\n",
    "ibr_endpoints = ibr_trace[:,:,end]\n",
    "ibr_equilibria = filter_unique(filter_regrets(gag, ibr_endpoints, threshold=reg_thresh), max_diff=0.02) \n",
    "println(\"Iterated Better Response found \", size(ibr_equilibria, 2), \" equilibria:\")\n",
    "display(round.(ibr_equilibria, digits=2))\n",
    "println(\"Regrets: \", round.(regret(gag, ibr_equilibria), sigdigits=3))"
   ]
  },
  {
   "cell_type": "code",
   "execution_count": null,
   "metadata": {},
   "outputs": [],
   "source": [
    "simplex_heatmap(fine_grid, regret_grid, show=false, title=\"Iterated Better Response\")\n",
    "for i in 1:size(coarse_grid,2)\n",
    "    simplex_scatter!(ibr_trace[:,i,2:1000], marker=:p, markersize=.075, show=false)\n",
    "end\n",
    "simplex_scatter!(ibr_trace[:,:,1], marker=:p, markersize=.1, markerfacecolor=:purple)\n",
    "for i in 1:size(coarse_grid,2)\n",
    "    if regret(gag, ibr_trace[:,i,1001]) >= reg_thresh\n",
    "        simplex_scatter!(ibr_trace[:,i,1001], marker=:p, markersize=.15, markerfacecolor=:red, show=false)\n",
    "    end\n",
    "end\n",
    "for i in 1:size(coarse_grid,2)\n",
    "    if regret(gag, ibr_trace[:,i,1001]) < reg_thresh\n",
    "        simplex_scatter!(ibr_trace[:,i,1001], marker=:p, markersize=.2, markerfacecolor=:green, show=false)\n",
    "    end\n",
    "end\n",
    "simplex_scatter!(ibr_equilibria, marker=:p, markersize=.2, markerfacecolor=:green, show=true)"
   ]
  },
  {
   "cell_type": "code",
   "execution_count": null,
   "metadata": {},
   "outputs": [],
   "source": []
  }
 ],
 "metadata": {
  "kernelspec": {
   "display_name": "Julia 1.7.2",
   "language": "julia",
   "name": "julia-1.7"
  },
  "language_info": {
   "file_extension": ".jl",
   "mimetype": "application/julia",
   "name": "julia",
   "version": "1.7.2"
  }
 },
 "nbformat": 4,
 "nbformat_minor": 4
}
