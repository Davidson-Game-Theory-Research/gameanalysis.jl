{
 "cells": [
  {
   "cell_type": "code",
   "execution_count": 1,
   "metadata": {},
   "outputs": [],
   "source": [
    "include(\"../GameAnalysis.jl\")\n",
    "using SymmetricTensors\n",
    "using Plots\n",
    "using LaTeXStrings\n",
    "using DataFrames, CSV"
   ]
  },
  {
   "cell_type": "code",
   "execution_count": 3,
   "metadata": {},
   "outputs": [
    {
     "data": {
      "text/plain": [
       "13×3 Matrix{Int64}:\n",
       "    1312      2640      3504\n",
       "    2400      5880      8544\n",
       "    4576     13080     21024\n",
       "    9120     29800     52608\n",
       "   18848     70560    133776\n",
       "   39904    174200    344160\n",
       "   85600    446760    892416\n",
       "  184608   1183080   2328960\n",
       "  398368   3216240   6120432\n",
       "  857952   8932600  16224096\n",
       " 1841888  25245240  43466976\n",
       " 3940000         0         0\n",
       " 8397472         0         0"
      ]
     },
     "execution_count": 3,
     "metadata": {},
     "output_type": "execute_result"
    }
   ],
   "source": [
    "st_sizes = zeros(Int64, 13, 3)\n",
    "st_size_df = DataFrame(players=Int[], actions=Int[], size=Int[])\n",
    "for num_actions in 4:6\n",
    "    for num_players in 2:14\n",
    "        if(num_actions == 4 || num_players < 13)\n",
    "            s = num_actions * Base.summarysize(SymmetricTensor(ones([num_actions for i in 1:num_players]...), 2))\n",
    "            st_sizes[num_players-1, num_actions-3] = s\n",
    "            push!(st_size_df, (num_players, num_actions, s))\n",
    "        end\n",
    "    end\n",
    "end\n",
    "CSV.write(\"../data/sym_tens_sizes.csv\", st_size_df)\n",
    "st_sizes"
   ]
  },
  {
   "cell_type": "code",
   "execution_count": 2,
   "metadata": {},
   "outputs": [
    {
     "data": {
      "text/html": [
       "<div class=\"data-frame\"><p>39 rows × 3 columns</p><table class=\"data-frame\"><thead><tr><th></th><th>players</th><th>actions</th><th>size</th></tr><tr><th></th><th title=\"Int64\">Int64</th><th title=\"Int64\">Int64</th><th title=\"Int64\">Int64</th></tr></thead><tbody><tr><th>1</th><td>2</td><td>4</td><td>1312</td></tr><tr><th>2</th><td>3</td><td>4</td><td>2400</td></tr><tr><th>3</th><td>4</td><td>4</td><td>4576</td></tr><tr><th>4</th><td>5</td><td>4</td><td>9120</td></tr><tr><th>5</th><td>6</td><td>4</td><td>18848</td></tr><tr><th>6</th><td>7</td><td>4</td><td>39904</td></tr><tr><th>7</th><td>8</td><td>4</td><td>85600</td></tr><tr><th>8</th><td>9</td><td>4</td><td>184608</td></tr><tr><th>9</th><td>10</td><td>4</td><td>398368</td></tr><tr><th>10</th><td>11</td><td>4</td><td>857952</td></tr><tr><th>11</th><td>12</td><td>4</td><td>1841888</td></tr><tr><th>12</th><td>13</td><td>4</td><td>3940000</td></tr><tr><th>13</th><td>14</td><td>4</td><td>8397472</td></tr><tr><th>14</th><td>2</td><td>5</td><td>2640</td></tr><tr><th>15</th><td>3</td><td>5</td><td>5880</td></tr><tr><th>16</th><td>4</td><td>5</td><td>13080</td></tr><tr><th>17</th><td>5</td><td>5</td><td>29800</td></tr><tr><th>18</th><td>6</td><td>5</td><td>70560</td></tr><tr><th>19</th><td>7</td><td>5</td><td>174200</td></tr><tr><th>20</th><td>8</td><td>5</td><td>446760</td></tr><tr><th>21</th><td>9</td><td>5</td><td>1183080</td></tr><tr><th>22</th><td>10</td><td>5</td><td>3216240</td></tr><tr><th>23</th><td>11</td><td>5</td><td>8932600</td></tr><tr><th>24</th><td>12</td><td>5</td><td>25245240</td></tr><tr><th>&vellip;</th><td>&vellip;</td><td>&vellip;</td><td>&vellip;</td></tr></tbody></table></div>"
      ],
      "text/latex": [
       "\\begin{tabular}{r|ccc}\n",
       "\t& players & actions & size\\\\\n",
       "\t\\hline\n",
       "\t& Int64 & Int64 & Int64\\\\\n",
       "\t\\hline\n",
       "\t1 & 2 & 4 & 1312 \\\\\n",
       "\t2 & 3 & 4 & 2400 \\\\\n",
       "\t3 & 4 & 4 & 4576 \\\\\n",
       "\t4 & 5 & 4 & 9120 \\\\\n",
       "\t5 & 6 & 4 & 18848 \\\\\n",
       "\t6 & 7 & 4 & 39904 \\\\\n",
       "\t7 & 8 & 4 & 85600 \\\\\n",
       "\t8 & 9 & 4 & 184608 \\\\\n",
       "\t9 & 10 & 4 & 398368 \\\\\n",
       "\t10 & 11 & 4 & 857952 \\\\\n",
       "\t11 & 12 & 4 & 1841888 \\\\\n",
       "\t12 & 13 & 4 & 3940000 \\\\\n",
       "\t13 & 14 & 4 & 8397472 \\\\\n",
       "\t14 & 2 & 5 & 2640 \\\\\n",
       "\t15 & 3 & 5 & 5880 \\\\\n",
       "\t16 & 4 & 5 & 13080 \\\\\n",
       "\t17 & 5 & 5 & 29800 \\\\\n",
       "\t18 & 6 & 5 & 70560 \\\\\n",
       "\t19 & 7 & 5 & 174200 \\\\\n",
       "\t20 & 8 & 5 & 446760 \\\\\n",
       "\t21 & 9 & 5 & 1183080 \\\\\n",
       "\t22 & 10 & 5 & 3216240 \\\\\n",
       "\t23 & 11 & 5 & 8932600 \\\\\n",
       "\t24 & 12 & 5 & 25245240 \\\\\n",
       "\t$\\dots$ & $\\dots$ & $\\dots$ & $\\dots$ \\\\\n",
       "\\end{tabular}\n"
      ],
      "text/plain": [
       "\u001b[1m39×3 DataFrame\u001b[0m\n",
       "\u001b[1m Row \u001b[0m│\u001b[1m players \u001b[0m\u001b[1m actions \u001b[0m\u001b[1m size     \u001b[0m\n",
       "\u001b[1m     \u001b[0m│\u001b[90m Int64   \u001b[0m\u001b[90m Int64   \u001b[0m\u001b[90m Int64    \u001b[0m\n",
       "─────┼────────────────────────────\n",
       "   1 │       2        4      1312\n",
       "   2 │       3        4      2400\n",
       "   3 │       4        4      4576\n",
       "   4 │       5        4      9120\n",
       "   5 │       6        4     18848\n",
       "   6 │       7        4     39904\n",
       "   7 │       8        4     85600\n",
       "   8 │       9        4    184608\n",
       "  ⋮  │    ⋮        ⋮        ⋮\n",
       "  33 │       8        6    892416\n",
       "  34 │       9        6   2328960\n",
       "  35 │      10        6   6120432\n",
       "  36 │      11        6  16224096\n",
       "  37 │      12        6  43466976\n",
       "  38 │      13        6         0\n",
       "  39 │      14        6         0\n",
       "\u001b[36m                   24 rows omitted\u001b[0m"
      ]
     },
     "metadata": {},
     "output_type": "display_data"
    }
   ],
   "source": [
    "st_size_df = DataFrame(CSV.File(\"../data/sym_tens_sizes.csv\"))"
   ]
  },
  {
   "cell_type": "code",
   "execution_count": 24,
   "metadata": {},
   "outputs": [
    {
     "data": {
      "text/plain": [
       "15×3 Matrix{Int64}:\n",
       "  1136    1976     3200\n",
       "  2096    4376     8240\n",
       "  3536    8576    18320\n",
       "  5552   15296    36464\n",
       "  8240   25376    66704\n",
       " 11696   39776   114224\n",
       " 16016   59576   185504\n",
       " 21296   85976   288464\n",
       " 27632  120296   432608\n",
       " 35120  163976   629168\n",
       " 43856  218576   891248\n",
       " 53936  285776  1233968\n",
       " 65456  367376  1674608\n",
       " 78512  465296  2232752\n",
       " 93200  581576  2930432"
      ]
     },
     "execution_count": 24,
     "metadata": {},
     "output_type": "execute_result"
    }
   ],
   "source": [
    "sg_sizes = zeros(Int64, 15, 3)\n",
    "sg_size_df = DataFrame(players=Int[], actions=Int[], size=Int[])\n",
    "for num_actions in 4:6\n",
    "    for num_players in 2:16\n",
    "        s = Base.summarysize(RepeatsTable(num_players,num_actions,c->ones(size(c))))\n",
    "        sg_sizes[num_players-1, num_actions-3] = s\n",
    "        push!(sg_size_df, (num_players, num_actions, s))\n",
    "    end\n",
    "end\n",
    "CSV.write(\"../data/rep_table_sizes.csv\", sg_size_df)\n",
    "sg_sizes"
   ]
  },
  {
   "cell_type": "code",
   "execution_count": 3,
   "metadata": {},
   "outputs": [
    {
     "data": {
      "text/html": [
       "<div class=\"data-frame\"><p>45 rows × 3 columns</p><table class=\"data-frame\"><thead><tr><th></th><th>players</th><th>actions</th><th>size</th></tr><tr><th></th><th title=\"Int64\">Int64</th><th title=\"Int64\">Int64</th><th title=\"Int64\">Int64</th></tr></thead><tbody><tr><th>1</th><td>2</td><td>4</td><td>1136</td></tr><tr><th>2</th><td>3</td><td>4</td><td>2096</td></tr><tr><th>3</th><td>4</td><td>4</td><td>3536</td></tr><tr><th>4</th><td>5</td><td>4</td><td>5552</td></tr><tr><th>5</th><td>6</td><td>4</td><td>8240</td></tr><tr><th>6</th><td>7</td><td>4</td><td>11696</td></tr><tr><th>7</th><td>8</td><td>4</td><td>16016</td></tr><tr><th>8</th><td>9</td><td>4</td><td>21296</td></tr><tr><th>9</th><td>10</td><td>4</td><td>27632</td></tr><tr><th>10</th><td>11</td><td>4</td><td>35120</td></tr><tr><th>11</th><td>12</td><td>4</td><td>43856</td></tr><tr><th>12</th><td>13</td><td>4</td><td>53936</td></tr><tr><th>13</th><td>14</td><td>4</td><td>65456</td></tr><tr><th>14</th><td>15</td><td>4</td><td>78512</td></tr><tr><th>15</th><td>16</td><td>4</td><td>93200</td></tr><tr><th>16</th><td>2</td><td>5</td><td>1976</td></tr><tr><th>17</th><td>3</td><td>5</td><td>4376</td></tr><tr><th>18</th><td>4</td><td>5</td><td>8576</td></tr><tr><th>19</th><td>5</td><td>5</td><td>15296</td></tr><tr><th>20</th><td>6</td><td>5</td><td>25376</td></tr><tr><th>21</th><td>7</td><td>5</td><td>39776</td></tr><tr><th>22</th><td>8</td><td>5</td><td>59576</td></tr><tr><th>23</th><td>9</td><td>5</td><td>85976</td></tr><tr><th>24</th><td>10</td><td>5</td><td>120296</td></tr><tr><th>&vellip;</th><td>&vellip;</td><td>&vellip;</td><td>&vellip;</td></tr></tbody></table></div>"
      ],
      "text/latex": [
       "\\begin{tabular}{r|ccc}\n",
       "\t& players & actions & size\\\\\n",
       "\t\\hline\n",
       "\t& Int64 & Int64 & Int64\\\\\n",
       "\t\\hline\n",
       "\t1 & 2 & 4 & 1136 \\\\\n",
       "\t2 & 3 & 4 & 2096 \\\\\n",
       "\t3 & 4 & 4 & 3536 \\\\\n",
       "\t4 & 5 & 4 & 5552 \\\\\n",
       "\t5 & 6 & 4 & 8240 \\\\\n",
       "\t6 & 7 & 4 & 11696 \\\\\n",
       "\t7 & 8 & 4 & 16016 \\\\\n",
       "\t8 & 9 & 4 & 21296 \\\\\n",
       "\t9 & 10 & 4 & 27632 \\\\\n",
       "\t10 & 11 & 4 & 35120 \\\\\n",
       "\t11 & 12 & 4 & 43856 \\\\\n",
       "\t12 & 13 & 4 & 53936 \\\\\n",
       "\t13 & 14 & 4 & 65456 \\\\\n",
       "\t14 & 15 & 4 & 78512 \\\\\n",
       "\t15 & 16 & 4 & 93200 \\\\\n",
       "\t16 & 2 & 5 & 1976 \\\\\n",
       "\t17 & 3 & 5 & 4376 \\\\\n",
       "\t18 & 4 & 5 & 8576 \\\\\n",
       "\t19 & 5 & 5 & 15296 \\\\\n",
       "\t20 & 6 & 5 & 25376 \\\\\n",
       "\t21 & 7 & 5 & 39776 \\\\\n",
       "\t22 & 8 & 5 & 59576 \\\\\n",
       "\t23 & 9 & 5 & 85976 \\\\\n",
       "\t24 & 10 & 5 & 120296 \\\\\n",
       "\t$\\dots$ & $\\dots$ & $\\dots$ & $\\dots$ \\\\\n",
       "\\end{tabular}\n"
      ],
      "text/plain": [
       "\u001b[1m45×3 DataFrame\u001b[0m\n",
       "\u001b[1m Row \u001b[0m│\u001b[1m players \u001b[0m\u001b[1m actions \u001b[0m\u001b[1m size    \u001b[0m\n",
       "\u001b[1m     \u001b[0m│\u001b[90m Int64   \u001b[0m\u001b[90m Int64   \u001b[0m\u001b[90m Int64   \u001b[0m\n",
       "─────┼───────────────────────────\n",
       "   1 │       2        4     1136\n",
       "   2 │       3        4     2096\n",
       "   3 │       4        4     3536\n",
       "   4 │       5        4     5552\n",
       "   5 │       6        4     8240\n",
       "   6 │       7        4    11696\n",
       "   7 │       8        4    16016\n",
       "   8 │       9        4    21296\n",
       "  ⋮  │    ⋮        ⋮        ⋮\n",
       "  39 │      10        6   432608\n",
       "  40 │      11        6   629168\n",
       "  41 │      12        6   891248\n",
       "  42 │      13        6  1233968\n",
       "  43 │      14        6  1674608\n",
       "  44 │      15        6  2232752\n",
       "  45 │      16        6  2930432\n",
       "\u001b[36m                  30 rows omitted\u001b[0m"
      ]
     },
     "metadata": {},
     "output_type": "display_data"
    }
   ],
   "source": [
    "sg_size_df = DataFrame(CSV.File(\"../data/rep_table_sizes.csv\"))"
   ]
  },
  {
   "cell_type": "code",
   "execution_count": 29,
   "metadata": {},
   "outputs": [
    {
     "data": {
      "text/plain": [
       "11×3 Matrix{Int64}:\n",
       "        72          90          112\n",
       "       232         415          688\n",
       "      1064        2540         5224\n",
       "      5160       15665        38920\n",
       "     24616       93790       279976\n",
       "    114728      546915      1959592\n",
       "    524328     3125040     13436968\n",
       "   2359336    17578165     90699304\n",
       "  10485800    97656290    604661800\n",
       "  46137384   537109415   3990767656\n",
       " 201326632  2929687540  26121388072"
      ]
     },
     "metadata": {},
     "output_type": "display_data"
    }
   ],
   "source": [
    "asym_size_df = DataFrame(players=Int[], actions=Int[], size=Int[])\n",
    "for num_actions in 4:6\n",
    "    for num_players in 2:16\n",
    "        push!(asym_size_df, (num_players, num_actions, num_players*num_actions^num_players+40))\n",
    "    end\n",
    "end\n",
    "CSV.write(\"../data/asym_nfg_sizes.csv\", sg_size_df)\n",
    "asym_sizes = [p*s^p+40 for p=2:12, s=4:6] # n-element Julia float arrays appear to take take 8*n + 40 bytes\n"
   ]
  },
  {
   "cell_type": "code",
   "execution_count": 30,
   "metadata": {},
   "outputs": [
    {
     "data": {
      "text/html": [
       "<div class=\"data-frame\"><p>45 rows × 3 columns</p><table class=\"data-frame\"><thead><tr><th></th><th>players</th><th>actions</th><th>size</th></tr><tr><th></th><th title=\"Int64\">Int64</th><th title=\"Int64\">Int64</th><th title=\"Int64\">Int64</th></tr></thead><tbody><tr><th>1</th><td>2</td><td>4</td><td>1136</td></tr><tr><th>2</th><td>3</td><td>4</td><td>2096</td></tr><tr><th>3</th><td>4</td><td>4</td><td>3536</td></tr><tr><th>4</th><td>5</td><td>4</td><td>5552</td></tr><tr><th>5</th><td>6</td><td>4</td><td>8240</td></tr><tr><th>6</th><td>7</td><td>4</td><td>11696</td></tr><tr><th>7</th><td>8</td><td>4</td><td>16016</td></tr><tr><th>8</th><td>9</td><td>4</td><td>21296</td></tr><tr><th>9</th><td>10</td><td>4</td><td>27632</td></tr><tr><th>10</th><td>11</td><td>4</td><td>35120</td></tr><tr><th>11</th><td>12</td><td>4</td><td>43856</td></tr><tr><th>12</th><td>13</td><td>4</td><td>53936</td></tr><tr><th>13</th><td>14</td><td>4</td><td>65456</td></tr><tr><th>14</th><td>15</td><td>4</td><td>78512</td></tr><tr><th>15</th><td>16</td><td>4</td><td>93200</td></tr><tr><th>16</th><td>2</td><td>5</td><td>1976</td></tr><tr><th>17</th><td>3</td><td>5</td><td>4376</td></tr><tr><th>18</th><td>4</td><td>5</td><td>8576</td></tr><tr><th>19</th><td>5</td><td>5</td><td>15296</td></tr><tr><th>20</th><td>6</td><td>5</td><td>25376</td></tr><tr><th>21</th><td>7</td><td>5</td><td>39776</td></tr><tr><th>22</th><td>8</td><td>5</td><td>59576</td></tr><tr><th>23</th><td>9</td><td>5</td><td>85976</td></tr><tr><th>24</th><td>10</td><td>5</td><td>120296</td></tr><tr><th>&vellip;</th><td>&vellip;</td><td>&vellip;</td><td>&vellip;</td></tr></tbody></table></div>"
      ],
      "text/latex": [
       "\\begin{tabular}{r|ccc}\n",
       "\t& players & actions & size\\\\\n",
       "\t\\hline\n",
       "\t& Int64 & Int64 & Int64\\\\\n",
       "\t\\hline\n",
       "\t1 & 2 & 4 & 1136 \\\\\n",
       "\t2 & 3 & 4 & 2096 \\\\\n",
       "\t3 & 4 & 4 & 3536 \\\\\n",
       "\t4 & 5 & 4 & 5552 \\\\\n",
       "\t5 & 6 & 4 & 8240 \\\\\n",
       "\t6 & 7 & 4 & 11696 \\\\\n",
       "\t7 & 8 & 4 & 16016 \\\\\n",
       "\t8 & 9 & 4 & 21296 \\\\\n",
       "\t9 & 10 & 4 & 27632 \\\\\n",
       "\t10 & 11 & 4 & 35120 \\\\\n",
       "\t11 & 12 & 4 & 43856 \\\\\n",
       "\t12 & 13 & 4 & 53936 \\\\\n",
       "\t13 & 14 & 4 & 65456 \\\\\n",
       "\t14 & 15 & 4 & 78512 \\\\\n",
       "\t15 & 16 & 4 & 93200 \\\\\n",
       "\t16 & 2 & 5 & 1976 \\\\\n",
       "\t17 & 3 & 5 & 4376 \\\\\n",
       "\t18 & 4 & 5 & 8576 \\\\\n",
       "\t19 & 5 & 5 & 15296 \\\\\n",
       "\t20 & 6 & 5 & 25376 \\\\\n",
       "\t21 & 7 & 5 & 39776 \\\\\n",
       "\t22 & 8 & 5 & 59576 \\\\\n",
       "\t23 & 9 & 5 & 85976 \\\\\n",
       "\t24 & 10 & 5 & 120296 \\\\\n",
       "\t$\\dots$ & $\\dots$ & $\\dots$ & $\\dots$ \\\\\n",
       "\\end{tabular}\n"
      ],
      "text/plain": [
       "\u001b[1m45×3 DataFrame\u001b[0m\n",
       "\u001b[1m Row \u001b[0m│\u001b[1m players \u001b[0m\u001b[1m actions \u001b[0m\u001b[1m size    \u001b[0m\n",
       "\u001b[1m     \u001b[0m│\u001b[90m Int64   \u001b[0m\u001b[90m Int64   \u001b[0m\u001b[90m Int64   \u001b[0m\n",
       "─────┼───────────────────────────\n",
       "   1 │       2        4     1136\n",
       "   2 │       3        4     2096\n",
       "   3 │       4        4     3536\n",
       "   4 │       5        4     5552\n",
       "   5 │       6        4     8240\n",
       "   6 │       7        4    11696\n",
       "   7 │       8        4    16016\n",
       "   8 │       9        4    21296\n",
       "  ⋮  │    ⋮        ⋮        ⋮\n",
       "  39 │      10        6   432608\n",
       "  40 │      11        6   629168\n",
       "  41 │      12        6   891248\n",
       "  42 │      13        6  1233968\n",
       "  43 │      14        6  1674608\n",
       "  44 │      15        6  2232752\n",
       "  45 │      16        6  2930432\n",
       "\u001b[36m                  30 rows omitted\u001b[0m"
      ]
     },
     "metadata": {},
     "output_type": "display_data"
    }
   ],
   "source": [
    "asym_size_df = DataFrame(CSV.File(\"../data/asym_nfg_sizes.csv\"))"
   ]
  },
  {
   "cell_type": "code",
   "execution_count": 36,
   "metadata": {},
   "outputs": [],
   "source": [
    "plot(legend=(0.1,0.95), xlabel=L\"Number of Players, $P$\", ylabel=\"Bytes of Memory\", legend_font_pointsize=8)\n",
    "plot!(2:10,asym_sizes[1:9,1], label=\"Normal Form, A=4\", lw = 3, ls=:dot, seriescolor=1, thickness_scaling = 1, markershape=:diamond)\n",
    "plot!(2:9,asym_sizes[1:8,2], label=\"Normal Form, A=5\", lw = 3, ls=:dot, seriescolor=2, markershape=:diamond)\n",
    "plot!(2:8,asym_sizes[1:7,3], label=\"Normal Form, A=6\", lw = 3, ls=:dot, seriescolor=3, markershape=:diamond)\n",
    "plot!(2:14,st_size_df[st_size_df.actions .== 4,:].size[1:13], label=\"Sym. Tensors, A=4\", lw = 3, ls=:dash, seriescolor=1, markershape=:utriangle)\n",
    "plot!(2:11,st_size_df[st_size_df.actions .== 5,:].size[1:10], label=\"Sym. Tensors, A=5\", lw = 3, ls=:dash, seriescolor=2, markershape=:utriangle)\n",
    "plot!(2:11,st_size_df[st_size_df.actions .== 6,:].size[1:10], label=\"Sym. Tensors, A=6\", lw = 3, ls=:dash, seriescolor=3, markershape=:utriangle)\n",
    "plot!(2:16,sg_size_df[sg_size_df.actions .== 4,:].size[1:15], label=\"Pre-Comp. Reps. A=4\", lw = 3, seriescolor=1, markershape=:circle)\n",
    "plot!(2:16,sg_size_df[sg_size_df.actions .== 5,:].size[1:15], label=\"Pre-Comp. Reps. A=5\", lw = 3, seriescolor=2, markershape=:circle)\n",
    "plot!(2:16,sg_size_df[sg_size_df.actions .== 6,:].size[1:15], label=\"Pre-Comp. Reps. A=6\", lw = 3, seriescolor=3, markershape=:circle)\n",
    "xticks!(2:2:16)\n",
    "ylims!((0,0.8e7))\n",
    "yt = 0:2e6:0.8e7\n",
    "yt_labels = [\"0\",\"2M\",\"4M\",\"6M\",\"8M\"]\n",
    "plot!(yticks=(yt, yt_labels))\n",
    "# savefig(\"../figures/NFG_memory_comparison.png\")\n"
   ]
  },
  {
   "cell_type": "code",
   "execution_count": 31,
   "metadata": {},
   "outputs": [
    {
     "data": {
      "text/html": [
       "<div class=\"data-frame\"><p>13 rows × 3 columns</p><table class=\"data-frame\"><thead><tr><th></th><th>players</th><th>actions</th><th>size</th></tr><tr><th></th><th title=\"Int64\">Int64</th><th title=\"Int64\">Int64</th><th title=\"Int64\">Int64</th></tr></thead><tbody><tr><th>1</th><td>2</td><td>4</td><td>1312</td></tr><tr><th>2</th><td>3</td><td>4</td><td>2400</td></tr><tr><th>3</th><td>4</td><td>4</td><td>4576</td></tr><tr><th>4</th><td>5</td><td>4</td><td>9120</td></tr><tr><th>5</th><td>6</td><td>4</td><td>18848</td></tr><tr><th>6</th><td>7</td><td>4</td><td>39904</td></tr><tr><th>7</th><td>8</td><td>4</td><td>85600</td></tr><tr><th>8</th><td>9</td><td>4</td><td>184608</td></tr><tr><th>9</th><td>10</td><td>4</td><td>398368</td></tr><tr><th>10</th><td>11</td><td>4</td><td>857952</td></tr><tr><th>11</th><td>12</td><td>4</td><td>1841888</td></tr><tr><th>12</th><td>13</td><td>4</td><td>3940000</td></tr><tr><th>13</th><td>14</td><td>4</td><td>8397472</td></tr></tbody></table></div>"
      ],
      "text/latex": [
       "\\begin{tabular}{r|ccc}\n",
       "\t& players & actions & size\\\\\n",
       "\t\\hline\n",
       "\t& Int64 & Int64 & Int64\\\\\n",
       "\t\\hline\n",
       "\t1 & 2 & 4 & 1312 \\\\\n",
       "\t2 & 3 & 4 & 2400 \\\\\n",
       "\t3 & 4 & 4 & 4576 \\\\\n",
       "\t4 & 5 & 4 & 9120 \\\\\n",
       "\t5 & 6 & 4 & 18848 \\\\\n",
       "\t6 & 7 & 4 & 39904 \\\\\n",
       "\t7 & 8 & 4 & 85600 \\\\\n",
       "\t8 & 9 & 4 & 184608 \\\\\n",
       "\t9 & 10 & 4 & 398368 \\\\\n",
       "\t10 & 11 & 4 & 857952 \\\\\n",
       "\t11 & 12 & 4 & 1841888 \\\\\n",
       "\t12 & 13 & 4 & 3940000 \\\\\n",
       "\t13 & 14 & 4 & 8397472 \\\\\n",
       "\\end{tabular}\n"
      ],
      "text/plain": [
       "\u001b[1m13×3 DataFrame\u001b[0m\n",
       "\u001b[1m Row \u001b[0m│\u001b[1m players \u001b[0m\u001b[1m actions \u001b[0m\u001b[1m size    \u001b[0m\n",
       "\u001b[1m     \u001b[0m│\u001b[90m Int64   \u001b[0m\u001b[90m Int64   \u001b[0m\u001b[90m Int64   \u001b[0m\n",
       "─────┼───────────────────────────\n",
       "   1 │       2        4     1312\n",
       "   2 │       3        4     2400\n",
       "   3 │       4        4     4576\n",
       "   4 │       5        4     9120\n",
       "   5 │       6        4    18848\n",
       "   6 │       7        4    39904\n",
       "   7 │       8        4    85600\n",
       "   8 │       9        4   184608\n",
       "   9 │      10        4   398368\n",
       "  10 │      11        4   857952\n",
       "  11 │      12        4  1841888\n",
       "  12 │      13        4  3940000\n",
       "  13 │      14        4  8397472"
      ]
     },
     "metadata": {},
     "output_type": "display_data"
    }
   ],
   "source": [
    "st_size_df[st_size_df.actions .== 4,:]"
   ]
  },
  {
   "cell_type": "code",
   "execution_count": 28,
   "metadata": {},
   "outputs": [
    {
     "data": {
      "text/html": [
       "<div class=\"data-frame\"><p>15 rows × 3 columns</p><table class=\"data-frame\"><thead><tr><th></th><th>players</th><th>actions</th><th>size</th></tr><tr><th></th><th title=\"Int64\">Int64</th><th title=\"Int64\">Int64</th><th title=\"Int64\">Int64</th></tr></thead><tbody><tr><th>1</th><td>2</td><td>4</td><td>1136</td></tr><tr><th>2</th><td>3</td><td>4</td><td>2096</td></tr><tr><th>3</th><td>4</td><td>4</td><td>3536</td></tr><tr><th>4</th><td>5</td><td>4</td><td>5552</td></tr><tr><th>5</th><td>6</td><td>4</td><td>8240</td></tr><tr><th>6</th><td>7</td><td>4</td><td>11696</td></tr><tr><th>7</th><td>8</td><td>4</td><td>16016</td></tr><tr><th>8</th><td>9</td><td>4</td><td>21296</td></tr><tr><th>9</th><td>10</td><td>4</td><td>27632</td></tr><tr><th>10</th><td>11</td><td>4</td><td>35120</td></tr><tr><th>11</th><td>12</td><td>4</td><td>43856</td></tr><tr><th>12</th><td>13</td><td>4</td><td>53936</td></tr><tr><th>13</th><td>14</td><td>4</td><td>65456</td></tr><tr><th>14</th><td>15</td><td>4</td><td>78512</td></tr><tr><th>15</th><td>16</td><td>4</td><td>93200</td></tr></tbody></table></div>"
      ],
      "text/latex": [
       "\\begin{tabular}{r|ccc}\n",
       "\t& players & actions & size\\\\\n",
       "\t\\hline\n",
       "\t& Int64 & Int64 & Int64\\\\\n",
       "\t\\hline\n",
       "\t1 & 2 & 4 & 1136 \\\\\n",
       "\t2 & 3 & 4 & 2096 \\\\\n",
       "\t3 & 4 & 4 & 3536 \\\\\n",
       "\t4 & 5 & 4 & 5552 \\\\\n",
       "\t5 & 6 & 4 & 8240 \\\\\n",
       "\t6 & 7 & 4 & 11696 \\\\\n",
       "\t7 & 8 & 4 & 16016 \\\\\n",
       "\t8 & 9 & 4 & 21296 \\\\\n",
       "\t9 & 10 & 4 & 27632 \\\\\n",
       "\t10 & 11 & 4 & 35120 \\\\\n",
       "\t11 & 12 & 4 & 43856 \\\\\n",
       "\t12 & 13 & 4 & 53936 \\\\\n",
       "\t13 & 14 & 4 & 65456 \\\\\n",
       "\t14 & 15 & 4 & 78512 \\\\\n",
       "\t15 & 16 & 4 & 93200 \\\\\n",
       "\\end{tabular}\n"
      ],
      "text/plain": [
       "\u001b[1m15×3 DataFrame\u001b[0m\n",
       "\u001b[1m Row \u001b[0m│\u001b[1m players \u001b[0m\u001b[1m actions \u001b[0m\u001b[1m size  \u001b[0m\n",
       "\u001b[1m     \u001b[0m│\u001b[90m Int64   \u001b[0m\u001b[90m Int64   \u001b[0m\u001b[90m Int64 \u001b[0m\n",
       "─────┼─────────────────────────\n",
       "   1 │       2        4   1136\n",
       "   2 │       3        4   2096\n",
       "   3 │       4        4   3536\n",
       "   4 │       5        4   5552\n",
       "   5 │       6        4   8240\n",
       "   6 │       7        4  11696\n",
       "   7 │       8        4  16016\n",
       "   8 │       9        4  21296\n",
       "   9 │      10        4  27632\n",
       "  10 │      11        4  35120\n",
       "  11 │      12        4  43856\n",
       "  12 │      13        4  53936\n",
       "  13 │      14        4  65456\n",
       "  14 │      15        4  78512\n",
       "  15 │      16        4  93200"
      ]
     },
     "metadata": {},
     "output_type": "display_data"
    }
   ],
   "source": [
    "asym_size_df[asym_size_df.actions .== 4,:]"
   ]
  },
  {
   "cell_type": "code",
   "execution_count": null,
   "metadata": {},
   "outputs": [],
   "source": []
  }
 ],
 "metadata": {
  "kernelspec": {
   "display_name": "Julia 1.7.2",
   "language": "julia",
   "name": "julia-1.7"
  },
  "language_info": {
   "file_extension": ".jl",
   "mimetype": "application/julia",
   "name": "julia",
   "version": "1.7.2"
  },
  "orig_nbformat": 4
 },
 "nbformat": 4,
 "nbformat_minor": 2
}
