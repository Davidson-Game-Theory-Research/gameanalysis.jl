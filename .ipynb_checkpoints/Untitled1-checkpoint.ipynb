{
 "cells": [
  {
   "cell_type": "code",
   "execution_count": 8,
   "metadata": {},
   "outputs": [],
   "source": [
    "using DelimitedFiles\n",
    "using WebIO\n",
    "using Plotly"
   ]
  },
  {
   "cell_type": "code",
   "execution_count": 4,
   "metadata": {},
   "outputs": [],
   "source": [
    "RW_CPU = readdlm(\"RepWeightCPU_bounds.csv\", ',', Int);\n",
    "RW_GPU = readdlm(\"RepWeightGPU_bounds.csv\", ',', Int);"
   ]
  },
  {
   "cell_type": "code",
   "execution_count": 9,
   "metadata": {},
   "outputs": [
    {
     "data": {
      "application/vnd.plotly.v1+json": {
       "data": [
        {
         "type": "heatmap",
         "x": [
          1,
          2,
          3
         ],
         "y": [
          1,
          20,
          30
         ]
        },
        {
         "type": "heatmap",
         "x": [
          1,
          2,
          3
         ],
         "y": [
          20,
          1,
          60
         ]
        },
        {
         "type": "heatmap",
         "x": [
          1,
          2,
          3
         ],
         "y": [
          30,
          60,
          1
         ]
        }
       ],
       "layout": {
        "margin": {
         "b": 50,
         "l": 50,
         "r": 50,
         "t": 60
        }
       }
      },
      "application/vnd.webio.node+json": {
       "children": [
        {
         "children": [],
         "instanceArgs": {
          "namespace": "html",
          "tag": "div"
         },
         "nodeType": "DOM",
         "props": {
          "id": "plot-9058d479-bc1b-44e4-9ba9-4241921e17ab"
         },
         "type": "node"
        }
       ],
       "instanceArgs": {
        "handlers": {
         "__get_gd_contents": [
          "(function (prop){prop==\"data\" ? (WebIO.setval({\"name\":\"__gd_contents\",\"scope\":\"902528817125159813\",\"id\":\"9547828037080316519\",\"type\":\"observable\"},this.plotElem.data)) : undefined; return prop==\"layout\" ? (WebIO.setval({\"name\":\"__gd_contents\",\"scope\":\"902528817125159813\",\"id\":\"9547828037080316519\",\"type\":\"observable\"},this.plotElem.layout)) : undefined})"
         ],
         "_commands": [
          "(function (args){var fn=args.shift(); var elem=this.plotElem; var Plotly=this.Plotly; args.unshift(elem); return Plotly[fn].apply(this,args)})"
         ],
         "_downloadImage": [
          "(function (options){return this.Plotly.downloadImage(this.plotElem,options)})"
         ],
         "_toImage": [
          "(function (options){return this.Plotly.toImage(this.plotElem,options).then((function (data){return WebIO.setval({\"name\":\"image\",\"scope\":\"902528817125159813\",\"id\":\"15177859348848432442\",\"type\":\"observable\"},data)}))})"
         ]
        },
        "id": "902528817125159813",
        "imports": {
         "data": [
          {
           "name": "Plotly",
           "type": "js",
           "url": "/assetserver/b189ed68b4c916db3c137e183e656abd181dbb50-plotly-latest.min.js"
          },
          {
           "name": null,
           "type": "js",
           "url": "/assetserver/6b34902df9e6b08112e6a0bfcf9f7d5a67b24750-plotly_webio.bundle.js"
          }
         ],
         "type": "async_block"
        },
        "mount_callbacks": [
         "function () {\n    var handler = ((function (Plotly,PlotlyWebIO){PlotlyWebIO.init(WebIO); var gd=this.dom.querySelector(\"#plot-9058d479-bc1b-44e4-9ba9-4241921e17ab\"); this.plotElem=gd; this.Plotly=Plotly; (window.Blink!==undefined) ? (gd.style.width=\"100%\", gd.style.height=\"100vh\", gd.style.marginLeft=\"0%\", gd.style.marginTop=\"0vh\") : undefined; window.onresize=(function (){return Plotly.Plots.resize(gd)}); Plotly.newPlot(gd,[{\"y\":[1,20,30],\"type\":\"heatmap\",\"x\":[1,2,3]},{\"y\":[20,1,60],\"type\":\"heatmap\",\"x\":[1,2,3]},{\"y\":[30,60,1],\"type\":\"heatmap\",\"x\":[1,2,3]}],{\"margin\":{\"l\":50,\"b\":50,\"r\":50,\"t\":60}},{}); gd.on(\"plotly_hover\",(function (data){var filtered_data=WebIO.PlotlyCommands.filterEventData(gd,data,\"hover\"); return !(filtered_data.isnil) ? (WebIO.setval({\"name\":\"hover\",\"scope\":\"902528817125159813\",\"id\":\"9790708087742384656\",\"type\":\"observable\"},filtered_data.out)) : undefined})); gd.on(\"plotly_unhover\",(function (){return WebIO.setval({\"name\":\"hover\",\"scope\":\"902528817125159813\",\"id\":\"9790708087742384656\",\"type\":\"observable\"},{})})); gd.on(\"plotly_selected\",(function (data){var filtered_data=WebIO.PlotlyCommands.filterEventData(gd,data,\"selected\"); return !(filtered_data.isnil) ? (WebIO.setval({\"name\":\"selected\",\"scope\":\"902528817125159813\",\"id\":\"9545958248836939375\",\"type\":\"observable\"},filtered_data.out)) : undefined})); gd.on(\"plotly_deselect\",(function (){return WebIO.setval({\"name\":\"selected\",\"scope\":\"902528817125159813\",\"id\":\"9545958248836939375\",\"type\":\"observable\"},{})})); gd.on(\"plotly_relayout\",(function (data){var filtered_data=WebIO.PlotlyCommands.filterEventData(gd,data,\"relayout\"); return !(filtered_data.isnil) ? (WebIO.setval({\"name\":\"relayout\",\"scope\":\"902528817125159813\",\"id\":\"12247560739478228260\",\"type\":\"observable\"},filtered_data.out)) : undefined})); return gd.on(\"plotly_click\",(function (data){var filtered_data=WebIO.PlotlyCommands.filterEventData(gd,data,\"click\"); return !(filtered_data.isnil) ? (WebIO.setval({\"name\":\"click\",\"scope\":\"902528817125159813\",\"id\":\"1414578044021098371\",\"type\":\"observable\"},filtered_data.out)) : undefined}))}));\n    (WebIO.importBlock({\"data\":[{\"name\":\"Plotly\",\"type\":\"js\",\"url\":\"/assetserver/b189ed68b4c916db3c137e183e656abd181dbb50-plotly-latest.min.js\"},{\"name\":null,\"type\":\"js\",\"url\":\"/assetserver/6b34902df9e6b08112e6a0bfcf9f7d5a67b24750-plotly_webio.bundle.js\"}],\"type\":\"async_block\"})).then((imports) => handler.apply(this, imports));\n}\n"
        ],
        "observables": {
         "__gd_contents": {
          "id": "9547828037080316519",
          "sync": false,
          "value": {}
         },
         "__get_gd_contents": {
          "id": "12231252873185545290",
          "sync": false,
          "value": ""
         },
         "_commands": {
          "id": "18095189867103036674",
          "sync": false,
          "value": []
         },
         "_downloadImage": {
          "id": "16238026297826681724",
          "sync": false,
          "value": {}
         },
         "_toImage": {
          "id": "10472721003130925392",
          "sync": false,
          "value": {}
         },
         "click": {
          "id": "1414578044021098371",
          "sync": false,
          "value": {}
         },
         "hover": {
          "id": "9790708087742384656",
          "sync": false,
          "value": {}
         },
         "image": {
          "id": "15177859348848432442",
          "sync": true,
          "value": ""
         },
         "relayout": {
          "id": "12247560739478228260",
          "sync": false,
          "value": {}
         },
         "selected": {
          "id": "9545958248836939375",
          "sync": false,
          "value": {}
         }
        },
        "systemjs_options": null
       },
       "nodeType": "Scope",
       "props": {},
       "type": "node"
      },
      "text/html": [
       "<div\n",
       "    class=\"webio-mountpoint\"\n",
       "    data-webio-mountpoint=\"15828255214762071979\"\n",
       ">\n",
       "    <script>\n",
       "    if (window.require && require.defined && require.defined(\"nbextensions/webio-jupyter-notebook\")) {\n",
       "        console.log(\"Jupyter WebIO extension detected, not mounting.\");\n",
       "    } else if (window.WebIO) {\n",
       "        WebIO.mount(\n",
       "            document.querySelector('[data-webio-mountpoint=\"15828255214762071979\"]'),\n",
       "            {\"props\":{},\"nodeType\":\"Scope\",\"type\":\"node\",\"instanceArgs\":{\"imports\":{\"data\":[{\"name\":\"Plotly\",\"type\":\"js\",\"url\":\"\\/assetserver\\/b189ed68b4c916db3c137e183e656abd181dbb50-plotly-latest.min.js\"},{\"name\":null,\"type\":\"js\",\"url\":\"\\/assetserver\\/6b34902df9e6b08112e6a0bfcf9f7d5a67b24750-plotly_webio.bundle.js\"}],\"type\":\"async_block\"},\"id\":\"902528817125159813\",\"handlers\":{\"_toImage\":[\"(function (options){return this.Plotly.toImage(this.plotElem,options).then((function (data){return WebIO.setval({\\\"name\\\":\\\"image\\\",\\\"scope\\\":\\\"902528817125159813\\\",\\\"id\\\":\\\"15177859348848432442\\\",\\\"type\\\":\\\"observable\\\"},data)}))})\"],\"__get_gd_contents\":[\"(function (prop){prop==\\\"data\\\" ? (WebIO.setval({\\\"name\\\":\\\"__gd_contents\\\",\\\"scope\\\":\\\"902528817125159813\\\",\\\"id\\\":\\\"9547828037080316519\\\",\\\"type\\\":\\\"observable\\\"},this.plotElem.data)) : undefined; return prop==\\\"layout\\\" ? (WebIO.setval({\\\"name\\\":\\\"__gd_contents\\\",\\\"scope\\\":\\\"902528817125159813\\\",\\\"id\\\":\\\"9547828037080316519\\\",\\\"type\\\":\\\"observable\\\"},this.plotElem.layout)) : undefined})\"],\"_downloadImage\":[\"(function (options){return this.Plotly.downloadImage(this.plotElem,options)})\"],\"_commands\":[\"(function (args){var fn=args.shift(); var elem=this.plotElem; var Plotly=this.Plotly; args.unshift(elem); return Plotly[fn].apply(this,args)})\"]},\"systemjs_options\":null,\"mount_callbacks\":[\"function () {\\n    var handler = ((function (Plotly,PlotlyWebIO){PlotlyWebIO.init(WebIO); var gd=this.dom.querySelector(\\\"#plot-9058d479-bc1b-44e4-9ba9-4241921e17ab\\\"); this.plotElem=gd; this.Plotly=Plotly; (window.Blink!==undefined) ? (gd.style.width=\\\"100%\\\", gd.style.height=\\\"100vh\\\", gd.style.marginLeft=\\\"0%\\\", gd.style.marginTop=\\\"0vh\\\") : undefined; window.onresize=(function (){return Plotly.Plots.resize(gd)}); Plotly.newPlot(gd,[{\\\"y\\\":[1,20,30],\\\"type\\\":\\\"heatmap\\\",\\\"x\\\":[1,2,3]},{\\\"y\\\":[20,1,60],\\\"type\\\":\\\"heatmap\\\",\\\"x\\\":[1,2,3]},{\\\"y\\\":[30,60,1],\\\"type\\\":\\\"heatmap\\\",\\\"x\\\":[1,2,3]}],{\\\"margin\\\":{\\\"l\\\":50,\\\"b\\\":50,\\\"r\\\":50,\\\"t\\\":60}},{}); gd.on(\\\"plotly_hover\\\",(function (data){var filtered_data=WebIO.PlotlyCommands.filterEventData(gd,data,\\\"hover\\\"); return !(filtered_data.isnil) ? (WebIO.setval({\\\"name\\\":\\\"hover\\\",\\\"scope\\\":\\\"902528817125159813\\\",\\\"id\\\":\\\"9790708087742384656\\\",\\\"type\\\":\\\"observable\\\"},filtered_data.out)) : undefined})); gd.on(\\\"plotly_unhover\\\",(function (){return WebIO.setval({\\\"name\\\":\\\"hover\\\",\\\"scope\\\":\\\"902528817125159813\\\",\\\"id\\\":\\\"9790708087742384656\\\",\\\"type\\\":\\\"observable\\\"},{})})); gd.on(\\\"plotly_selected\\\",(function (data){var filtered_data=WebIO.PlotlyCommands.filterEventData(gd,data,\\\"selected\\\"); return !(filtered_data.isnil) ? (WebIO.setval({\\\"name\\\":\\\"selected\\\",\\\"scope\\\":\\\"902528817125159813\\\",\\\"id\\\":\\\"9545958248836939375\\\",\\\"type\\\":\\\"observable\\\"},filtered_data.out)) : undefined})); gd.on(\\\"plotly_deselect\\\",(function (){return WebIO.setval({\\\"name\\\":\\\"selected\\\",\\\"scope\\\":\\\"902528817125159813\\\",\\\"id\\\":\\\"9545958248836939375\\\",\\\"type\\\":\\\"observable\\\"},{})})); gd.on(\\\"plotly_relayout\\\",(function (data){var filtered_data=WebIO.PlotlyCommands.filterEventData(gd,data,\\\"relayout\\\"); return !(filtered_data.isnil) ? (WebIO.setval({\\\"name\\\":\\\"relayout\\\",\\\"scope\\\":\\\"902528817125159813\\\",\\\"id\\\":\\\"12247560739478228260\\\",\\\"type\\\":\\\"observable\\\"},filtered_data.out)) : undefined})); return gd.on(\\\"plotly_click\\\",(function (data){var filtered_data=WebIO.PlotlyCommands.filterEventData(gd,data,\\\"click\\\"); return !(filtered_data.isnil) ? (WebIO.setval({\\\"name\\\":\\\"click\\\",\\\"scope\\\":\\\"902528817125159813\\\",\\\"id\\\":\\\"1414578044021098371\\\",\\\"type\\\":\\\"observable\\\"},filtered_data.out)) : undefined}))}));\\n    (WebIO.importBlock({\\\"data\\\":[{\\\"name\\\":\\\"Plotly\\\",\\\"type\\\":\\\"js\\\",\\\"url\\\":\\\"\\/assetserver\\/b189ed68b4c916db3c137e183e656abd181dbb50-plotly-latest.min.js\\\"},{\\\"name\\\":null,\\\"type\\\":\\\"js\\\",\\\"url\\\":\\\"\\/assetserver\\/6b34902df9e6b08112e6a0bfcf9f7d5a67b24750-plotly_webio.bundle.js\\\"}],\\\"type\\\":\\\"async_block\\\"})).then((imports) => handler.apply(this, imports));\\n}\\n\"],\"observables\":{\"_toImage\":{\"sync\":false,\"id\":\"10472721003130925392\",\"value\":{}},\"hover\":{\"sync\":false,\"id\":\"9790708087742384656\",\"value\":{}},\"selected\":{\"sync\":false,\"id\":\"9545958248836939375\",\"value\":{}},\"__gd_contents\":{\"sync\":false,\"id\":\"9547828037080316519\",\"value\":{}},\"click\":{\"sync\":false,\"id\":\"1414578044021098371\",\"value\":{}},\"image\":{\"sync\":true,\"id\":\"15177859348848432442\",\"value\":\"\"},\"__get_gd_contents\":{\"sync\":false,\"id\":\"12231252873185545290\",\"value\":\"\"},\"_downloadImage\":{\"sync\":false,\"id\":\"16238026297826681724\",\"value\":{}},\"relayout\":{\"sync\":false,\"id\":\"12247560739478228260\",\"value\":{}},\"_commands\":{\"sync\":false,\"id\":\"18095189867103036674\",\"value\":[]}}},\"children\":[{\"props\":{\"id\":\"plot-9058d479-bc1b-44e4-9ba9-4241921e17ab\"},\"nodeType\":\"DOM\",\"type\":\"node\",\"instanceArgs\":{\"namespace\":\"html\",\"tag\":\"div\"},\"children\":[]}]},\n",
       "            window,\n",
       "        );\n",
       "    } else {\n",
       "        document\n",
       "            .querySelector('[data-webio-mountpoint=\"15828255214762071979\"]')\n",
       "            .innerHTML = (\n",
       "                '<div style=\"padding: 1em; background-color: #f8d6da; border: 1px solid #f5c6cb\">' +\n",
       "                '<p><strong>WebIO not detected.</strong></p>' +\n",
       "                '<p>Please read ' +\n",
       "                '<a href=\"https://juliagizmos.github.io/WebIO.jl/latest/troubleshooting/not-detected/\" target=\"_blank\">the troubleshooting guide</a> ' +\n",
       "                'for more information on how to resolve this issue.</p>' +\n",
       "                '<p><a href=\"https://juliagizmos.github.io/WebIO.jl/latest/troubleshooting/not-detected/\" target=\"_blank\">https://juliagizmos.github.io/WebIO.jl/latest/troubleshooting/not-detected/</a></p>' +\n",
       "                '</div>'\n",
       "            );\n",
       "    }\n",
       "    </script>\n",
       "</div>\n"
      ],
      "text/plain": [
       "data: [\n",
       "  \"heatmap with fields type, x, and y\",\n",
       "  \"heatmap with fields type, x, and y\",\n",
       "  \"heatmap with fields type, x, and y\"\n",
       "]\n",
       "\n",
       "layout: \"layout with field margin\"\n",
       "\n"
      ]
     },
     "execution_count": 9,
     "metadata": {},
     "output_type": "execute_result"
    }
   ],
   "source": [
    "data = [\n",
    "  [\n",
    "    \"z\" => [1 20 30; 20 1 60; 30 60 1],\n",
    "    \"type\" => \"heatmap\"\n",
    "  ]\n",
    "]\n",
    "plot([1 20 30; 20 1 60; 30 60 1], type=\"heatmap\")"
   ]
  },
  {
   "cell_type": "code",
   "execution_count": null,
   "metadata": {},
   "outputs": [],
   "source": []
  }
 ],
 "metadata": {
  "kernelspec": {
   "display_name": "Julia 1.4.2",
   "language": "julia",
   "name": "julia-1.4"
  },
  "language_info": {
   "file_extension": ".jl",
   "mimetype": "application/julia",
   "name": "julia",
   "version": "1.4.2"
  }
 },
 "nbformat": 4,
 "nbformat_minor": 4
}
